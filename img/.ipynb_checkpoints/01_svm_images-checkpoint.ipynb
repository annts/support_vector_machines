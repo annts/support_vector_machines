{
 "cells": [
  {
   "cell_type": "markdown",
   "metadata": {},
   "source": [
    "# 1. Introduction\n",
    "\n",
    "### Purpose\n",
    "Purpose of the notebook is to demonstrate mathematical intuition behind SVM. The intent is to first work out the underlying maths by hand\n",
    "and then replicate it via python libraries. This will help to crystalise the understanding of anyone\n",
    "who is using packages to solve these problems.\n",
    "\n",
    "### Structure\n",
    "The notebook is structured in 3 different sections:\n",
    "1. Mathemactical theory\n",
    "2. Workout example by hand\n",
    "3. Use sklearn package to replicate\n",
    "\n",
    "### Who is this post for:\n",
    "If you want to bridge the gap between the mathematical theory and what is available via open source packages, then this notebook will help you.\n",
    "\n",
    "If you get confused by what the various attributes of sklearn svm.SVC such as dual_coef_ and coef_, then this post will help you.\n",
    "\n",
    "Post does not assume a lot of mathematical knowledge. In an attempt to explain from first principles, notebook has ended up a little heavy on maths. This shouldn't deter the reader as it comes with the added advantage of explaining all derivations.\n",
    "\n",
    "Highly recommend to watch the lecture from late Prof. Patrick Winston listed below and the MIT recitation video below, before reviewing the notebbok. Reviewing the notebook later after watching those videos, will link it to be sklearn API and the attributes available via the API.\n",
    "\n",
    "### Reference:\n",
    "* Credits to section 1 - [Lecture by Patrick Winston MIT](https://www.youtube.com/watch?v=_PwhiWxHK8o)\n",
    "* Credits to section 2 - [MIT Recitation on SVM](https://www.youtube.com/watch?v=ik7E7r2a1h8)."
   ]
  },
  {
   "cell_type": "markdown",
   "metadata": {},
   "source": [
    "# 2. Mathematical Background "
   ]
  },
  {
   "cell_type": "markdown",
   "metadata": {},
   "source": [
    "#### Step 1: Derive decision rule \n",
    "\n",
    "We are using geometrical intuition to derive the decision boundary. \n",
    "\n",
    "The figure shows the hyperplane separating positive and negative points. \n",
    "$\\vec{w}$ is the orthonormal vector\n",
    "$\\vec{u}$ is the unknown vector. \n",
    "\n",
    "To find if the unknown vector($\\vec{u}$), lies on the either side of the hyperplane, find the dot product between $\\vec{u}$ and $\\vec{w}$. If the distance is greater than a constant, it lies on the positive side of the hyperplane. It is less than constant, it lies on negative side of the hyperplane.\n",
    "\n",
    "Question - What happens if the projection lies within the hyperplane?\n",
    "$\\vec{w}.\\vec{u} >= c$\n",
    "\n",
    "$\\vec{w}.\\vec{u} -c >=0$\n",
    "\n",
    "$\\vec{w}.\\vec{u} -c >0$ Then positive class else negative class\n",
    "\n",
    "![hyperplane.png](./img/1_hyperplane.png)\n",
    "\n",
    "Substituting -c = b,\n",
    "\n",
    "$\\vec{w}.\\vec{u} +b >=0 then +1 else -1$\n",
    "    "
   ]
  },
  {
   "cell_type": "markdown",
   "metadata": {},
   "source": [
    "\n",
    "![01_eq_decision_boundary.png](./img/01_eq_decision_boundary.png)"
   ]
  },
  {
   "cell_type": "markdown",
   "metadata": {},
   "source": [
    "#### Step 2 : Derive width of the hyperplane\n"
   ]
  },
  {
   "cell_type": "markdown",
   "metadata": {},
   "source": [
    "![width_hyperplane.png](./img/2_width_hyperplane.png)\n",
    "\n",
    "Using the decision rule and modifying it to introduce the constraint. \n",
    "\n",
    "positive sample = $\\vec{x_+}$\n",
    "\n",
    "negative sample = $\\vec{x_-}$\n",
    "\n",
    "We are denoting y for positive classes as +1. y for negative classes as -1. \n",
    "\n",
    "for positive class -> $\\vec{w}\\vec{x_+} + b >=1$ \n",
    "\n",
    "for negative class -> $ \\vec{w}\\vec{x_-} + b <= -1$\n",
    "\n",
    "Let us introduce a new variable $y_i = +1$ for positive samples. $y_i = -1$ for negative samples.\n",
    "\n",
    "$y_i(\\vec{w}.\\vec{x_i} + b) -1 >=0$\n",
    "\n",
    "For support vectors, $$y_i(\\vec{w}\\vec{x_i} + b) - 1 =0$$\n",
    "Substituting for positive classes\n",
    "$y_+ = 1$\n",
    "\n",
    "$$\\vec{w}\\vec{x_+} = 1 - b$$\n",
    "$$-1(\\vec{w}\\vec{x_- +b} = 1 $$\n",
    "$$\\vec{w}\\vec{x_-} = -1 - b$$\n",
    "\n",
    "\n",
    "Let us denote 2 points $x_+$ and $x_-$ on the gutters. Straight distance d can be obtained by multiplying $x_+$ and $x_-$ with unit vector. \n",
    "\n",
    "w is normal to gutters.\n",
    "\n",
    "$\\frac{\\vec{w}}{\\lVert w \\rVert}$ is the unit vector.\n",
    "\n",
    "width $d = (x_+ - x_-)\\frac{\\vec{w}}{\\lVert w \\rVert}$\n",
    "\n",
    "$d = \\frac{x_+\\vec{w} - x_-\\vec{w}}{\\lVert w \\rVert}$\n",
    "\n",
    "$d = \\frac{1 - b + 1 + b}{\\lVert w \\rVert}$\n",
    "\n",
    "$d = \\frac{2}{\\lVert w \\rVert}$"
   ]
  },
  {
   "cell_type": "markdown",
   "metadata": {},
   "source": [
    "![02_eq_width_hyperplane.png](./img/02_eq_width_hyperplane.png)\n",
    "\n",
    "**Note : It is very easy to confuse margin width with $\\lVert w \\rVert$. Key thing to note is $\\lVert w \\rVert$ is  inversely proportional to margin width. When magnitude of $\\vec{w}$ increases, margin width decreases.** \n"
   ]
  },
  {
   "cell_type": "markdown",
   "metadata": {},
   "source": [
    "### Step 3: Formalize objective function"
   ]
  },
  {
   "cell_type": "markdown",
   "metadata": {},
   "source": [
    "Our objective is to maximize the width of the hyperplane identified in Step 2 -  $\\frac{2}{\\lVert w \\rVert}$ subject to\n",
    "the constraint identified in Step 1 -  $\\vec{w}\\vec{x} + b > 0$\n",
    "\n",
    "Maximise $\\frac{2}{\\lVert w \\rVert}$ such that $\\vec{w}\\vec{x} + b > 0$ \n",
    "\n",
    "Maximising $\\frac{2}{\\lVert w \\rVert}$ is same as minimising ${\\lVert w \\rVert}^2$\n",
    "\n",
    "So, the objective function becomes minimise ${\\lVert w \\rVert}^2$ such that $\\vec{w}\\vec{x} + b > 0$  "
   ]
  },
  {
   "cell_type": "markdown",
   "metadata": {},
   "source": [
    "### Step 4: Optimise\n",
    "\n",
    "A technique from math called [Lagrangian Multiplier](https://en.wikipedia.org/wiki/Lagrange_multiplier) is used to solve the above objective.\n",
    "\n",
    "The method can be summarized as follows: in order to find the maximum or minimum of a function $f(x)$ subjected to the equality constraint $g(x)=0$, form the Lagrangian function\n",
    "\n",
    "${L}(x,\\lambda )=f(x)-\\lambda g(x)$\n",
    "\n",
    "$f(x) = {\\frac{1}{2}}{\\lVert}w{\\rVert}^2 $\n",
    "\n",
    "$g(x) = y_i(\\vec{w}\\vec{x_i}+b) -1 = 0$\n",
    "\n",
    "Using the lagrangian multiplier $\\alpha$ leads to defining the **Primal problem** \n",
    "\n",
    "$$ L = {\\frac{1}{2}}{\\lVert}w{\\rVert}^2 - \\sum \\alpha_i{\\lbrack}y_i(\\vec{w}\\vec{x_i}+b) -1{\\rbrack}$$\n",
    "\n",
    "To find extremum of function, calculate derivate w.r.t moving parts and set them to 0\n",
    "$$ L = {\\frac{1}{2}}{\\lVert}w{\\rVert}^2 - \\sum \\alpha_i y_i \\vec{w}\\vec{x_i} - \\sum \\alpha_i y_i b + \\sum \\alpha_i$$\n",
    "\n",
    "$\\frac{\\partial L}{\\partial w} = 0$\n",
    "\n",
    "$$\\frac{\\partial {\\lVert}w{\\rVert}^2}{\\partial w} = w $$\n",
    "\n",
    "$$\\frac{\\partial {\\alpha_i y_i \\vec{w}\\vec{x_i}}}{\\partial w} = \\alpha_i y_i \\vec{x_i} $$\n",
    "\n",
    "$$\\frac{\\alpha_i y_i b}{\\partial w} = 0 $$ (No w term, derivative w.r.t constant)\n",
    "\n",
    "$$\\frac{\\alpha_i}{\\partial w} = 0 $$ (No w term, derivative w.r.t constant)\n",
    "\n",
    "$$\\vec{w} = \\sum {\\alpha_i} y_i \\vec{x_i} $$\n",
    "\n",
    "Intuition : $\\vec{w}$ is the linear sum of some training samples. For some non support vectors $\\alpha_i$ will be zero. Hence, $w_i$ will be 0.\n",
    "\n",
    "$\\frac{\\partial L}{\\partial b} = 0$\n",
    "$$\\sum \\alpha_i y_i = 0 $$\n",
    "\n"
   ]
  },
  {
   "cell_type": "markdown",
   "metadata": {},
   "source": [
    "In addition to the dual problem optimisation all the KKT conditions need to be satisfied.\n",
    "$ \\alpha_i{\\lbrack}y_i(\\vec{w}\\vec{x_i}+b) -1{\\rbrack} = 0 $\n",
    "\n",
    "Which leads to the intuition behind the non support vectors, when  $y_i(\\vec{w}\\vec{x_i}+b) != 1 => \\alpha_i = 0 $\n"
   ]
  },
  {
   "cell_type": "markdown",
   "metadata": {},
   "source": [
    "Step above provide 3 main equations that are critical:\n",
    "![03_eq_primal_problem.png](./img/03_eq_primal_problem.png)  \n",
    "\n",
    "![04_eq_support_vector_coefficient.png](./img/04_eq_support_vector_coefficient.png)\n",
    "\n",
    "![05_eq_support_vector_sum.png](./img/05_eq_support_vector_sum.png)"
   ]
  },
  {
   "cell_type": "markdown",
   "metadata": {},
   "source": [
    "### Step 5: Dual Problem\n",
    "Substituting values back into the primal problem \n",
    "\n",
    "$$ L = {\\frac{1}{2}}{\\lVert}w{\\rVert}^2 - \\sum \\alpha_i{\\lbrack}y_i(\\vec{w}\\vec{x_i}+b) -1{\\rbrack}$$\n",
    "\n",
    "$$  = {\\frac{1}{2}}\\sum \\alpha_i y_i \\vec{x_i} \\sum \\alpha_j y_j \\vec{x_j} - \\sum \\alpha_i y_i\\vec{w}\\vec{x_i} - \\sum \\alpha_i y_i b + \\sum \\alpha_i $$\n",
    "\n",
    "Next, let us substitute the value for $\\vec{w}$ from equation above from primal problem. b is a constant and can be taken out of the summation.\n",
    "\n",
    "$$  = {\\frac{1}{2}}\\sum \\alpha_i y_i \\vec{x_i} \\sum \\alpha_j y_j \\vec{x_j} - \\sum \\alpha_i y_i\\sum \\alpha_j y_j \\vec{x_j}\\vec{x_i} - b\\sum \\alpha_i y_i + \\sum \\alpha_i $$\n",
    "\n",
    "From above $ \\sum \\alpha_iy_i = 0 $, so term with constant b is 0.\n",
    "$\\sum \\alpha_i y_i\\sum \\alpha_j y_j \\vec{x_j}\\vec{x_i}$ can be rearranged as $\\sum \\alpha_i y_i \\vec{x_i}\\sum \\alpha_j y_j \\vec{x_j}$\n",
    "\n",
    "$$  = {\\frac{1}{2}}\\sum \\alpha_i y_i \\vec{x_i} \\sum \\alpha_j y_j \\vec{x_j} - \\sum \\alpha_i y_i \\vec{x_i} \\sum \\alpha_j y_j \\vec{x_j} - b*0 + \\sum \\alpha_i $$\n",
    "\n",
    "$$ L = \\sum {\\alpha_i} - \\frac{1}{2} \\sum \\sum {\\alpha_i}{\\alpha_j}{y_i}{y_j}{x_i}{x_j}$$"
   ]
  },
  {
   "cell_type": "markdown",
   "metadata": {},
   "source": [
    "# 4. Workout Maths\n",
    "In this example, we will take an example of points that are linearly separable.Inspecting the points below, separating hyperplane is from x=1 and x=3. The centre of the separating hyperplane passess through x=2. Width of the separating hyperplane is 2. We will first workout the maths\n",
    "and then try to cross check our results via computation."
   ]
  },
  {
   "cell_type": "markdown",
   "metadata": {},
   "source": [
    "**Derive decision rule. How to calculate w and b in the decision rule?**\n",
    "\n",
    "***Step 1 : Draw the decision boundary***\n",
    "\n",
    "y=0 are denoted by blue dots. \n",
    "y=1 are denoted by orange crosses\n",
    "\n",
    "Need to draw the street with maximum width that separates the two. \n",
    "A street with width=2 is possible between x=1 and x=3. Middle of the street passes through x=2. \n",
    "\n",
    "![sample_data.png](./img/03_workout_maths_sample_data.png)\n",
    "\n",
    "***Step 2: Write the equation for the boundary $x=2$***\n",
    "This can be written in the standard line equation $1x-0y-2=0$ . Rewiting it this way will help in factorising weights in step3.\n",
    "\n",
    "***Step 3: Rewite the above equation in the form $wx + b = 0$***\n",
    " $$\\begin{bmatrix} ? & ? \\end{bmatrix} \\begin{bmatrix} x \\\\ y \\end{bmatrix} + b = 0$$\n",
    " \n",
    "Extrapolating from the line equation above, we can fill in the dashes\n",
    "\n",
    "**Equation1**\n",
    " $$\\begin{bmatrix} 1 & 0 \\end{bmatrix} \\begin{bmatrix} x \\\\ y \\end{bmatrix} - 2 = 0$$\n",
    " \n",
    "Equation 1 has a degree of freedom. It is possible to multiply it by a constant and still satisfy the equation. So, we need to introduce scaling by a constant such that $\\textrm {margin width}  = \\frac{2}{\\lVert w \\rVert}$. However, that alone won't be sufficient as we need to introduce the constraint that w points to positive class. \n",
    "\n",
    "**Equation2**\n",
    "Scale Equation1 by a constant such that $$\\textrm {margin width} =\\frac{2}{\\lVert w \\rVert}$$. \n",
    "\n",
    "A more easier way mathematically, is to introduce gutter constraint\n",
    "\n",
    " $$\\textrm{for positive classes, }wx + b >=1 $$ \n",
    "\n",
    " $$\\textrm{for negative classes, }wx + b <=-1 $$ \n",
    "\n",
    "$wx+b=1$  for gutters for positive class\n",
    "$wx+b=-1$ for gutters for negative class\n",
    "\n",
    "\n",
    "**Equation 3**\n",
    "for all support vectors, $$\\vec{w}\\vec{x} + b = y_i$$\n",
    "$$y_i = class(i) = +1 or -1$$\n",
    "\n",
    "To derive the value of w and b, manually, let us substitute one of the support vectors into the equation. Let us consider point D - (3,2).\n",
    "$$\\vec{w}\\vec{x_D} + b = -1$$\n",
    "\n",
    "Substituting for point D, and using values from equation 1, check if the equation above holds good.\n",
    "$$\\begin{bmatrix} 1 & 0 \\end{bmatrix} \\begin{bmatrix} 3 \\\\ 2 \\end{bmatrix} -2 = -1$$\n",
    "$$ 3 -2 != 1 $$\n",
    "\n",
    "So, we have to scale by constant,c\n",
    "$$c*\\begin{bmatrix} 1 & 0 \\end{bmatrix} \\begin{bmatrix} 3 \\\\ 2 \\end{bmatrix} -c*2 = -1$$\n",
    "c = -1\n",
    "\n",
    "$$ weight = \\begin{bmatrix} -1 & 0 \\end{bmatrix}$$\n",
    "$$ b = 2 $$\n",
    "\n",
    "From the diagram, we know that margin width = 2. \n",
    "\n",
    "Let us check what $\\frac{2}{\\lVert w \\rVert}$ is : $2/1 = 2$\n",
    "So, we have sense checked this with equation2.\n",
    "\n",
    "Let us also check the direction of $\\vec{w}$.  $\\vec{w}$ points towards -1, 0. It points towards the positive class as shown in the diagram above."
   ]
  },
  {
   "cell_type": "markdown",
   "metadata": {},
   "source": [
    "So, far we have calculated $\\vec{w}$ and b. This has formalised the maximum margin hyperplane. Next, we would like to calculate supportiveness of the values. "
   ]
  },
  {
   "cell_type": "markdown",
   "metadata": {},
   "source": [
    "**Calculating support vector values**\n",
    "\n",
    "Step 1 : For all non-support vectors, $\\alpha=0$.\n",
    " For support vectors,i.e - points on the gutters, $\\alpha>0$\n",
    " \n",
    "Step 2 : There are 2 equations from introducing lagrange multipier.\n",
    "$$\\sum{\\alpha_i}y_i = 0$$\n",
    "Substituting the value $y_i$ for positive and negative classes, \n",
    "$$\\sum\\limits_{positive classes}{\\alpha_p} = \\sum\\limits_{negative classes}{\\alpha_n}$$\n",
    "Looking at the support vectors in scenario1, we have equation1:\n",
    "$${\\alpha_A} + {\\alpha_B} = {\\alpha_D}$$\n",
    "\n",
    "Step 3: $$\\vec{w} = \\sum{\\alpha_i}y_ix_i$$\n",
    "Looking at the support vectors in scenario1,\n",
    "$$\\vec{w} = {\\alpha_A}y_Ax_A + {\\alpha_B}y_Bx_B + {\\alpha_D}y_Dx_D  $$\n",
    "Substitue the values of $\\vec{w}$, x and y\n",
    "$$\\begin{bmatrix} -1 & 0 \\end{bmatrix}= {\\alpha_A}\\begin{bmatrix} 1 \\\\ 3 \\end{bmatrix} +  {\\alpha_B}\\begin{bmatrix} 1 \\\\ 1 \\end{bmatrix} - \n",
    "{\\alpha_D}\\begin{bmatrix} 3 \\\\ 2 \\end{bmatrix}$$\n",
    "\n",
    "Deriving 2 equations from above\n",
    "$$-1 = \\alpha_A + \\alpha_B - 3\\alpha_D$$\n",
    "$$0 = 3\\alpha_A + \\alpha_B - 2\\alpha_D$$\n",
    "\n",
    "Simplifying the 2 equations:\n",
    "\n",
    "$$-1 = \\alpha_A + \\alpha_B - 3\\alpha_D$$ \n",
    "Subsitute equation from step 2, into the equation above.\n",
    "$$-1 = \\alpha_D - 3\\alpha_D$$\n",
    "$$\\alpha_D = 1/2$$\n",
    "\n",
    "\n",
    "\n",
    "$$\\alpha_A = 1/4$$\n",
    "$$\\alpha_B = 1/4$$\n",
    "$$\\alpha_D = 1/2$$"
   ]
  },
  {
   "cell_type": "markdown",
   "metadata": {},
   "source": [
    "# 5. Using Code\n",
    "### sklearn SVM package"
   ]
  },
  {
   "cell_type": "code",
   "execution_count": 1,
   "metadata": {},
   "outputs": [],
   "source": [
    "import random\n",
    "import numpy as np\n",
    "import pandas as pd\n",
    "import matplotlib.pyplot as plt\n",
    "import seaborn as sns\n",
    "sns.set()\n",
    "\n",
    "from sklearn import preprocessing\n",
    "from sklearn import svm\n",
    "from sklearn import metrics\n",
    "from sklearn.metrics import confusion_matrix\n",
    "from sklearn.model_selection import cross_val_score\n",
    "from sklearn.model_selection import GridSearchCV"
   ]
  },
  {
   "cell_type": "code",
   "execution_count": 2,
   "metadata": {},
   "outputs": [],
   "source": [
    "# Generate random points for positive class with x1 < 1\n",
    "X1_pos = random.sample(range(-5,1), 5)\n",
    "X2_pos = random.sample(range(0,5), 5)\n",
    "X_pos = np.column_stack([X1_pos, X2_pos])\n",
    "# Add couple of points with x1=1. These are our special support vectors\n",
    "X_pos = np.vstack([X_pos, [[1,1]], [[1,3]]])"
   ]
  },
  {
   "cell_type": "code",
   "execution_count": 3,
   "metadata": {},
   "outputs": [],
   "source": [
    "# Generate random points for negative class with x1 > 4\n",
    "X1_neg = random.sample(range(4, 12), 6)\n",
    "X2_neg = random.sample(range(0, 7), 6)\n",
    "X_neg = np.column_stack([X1_neg, X2_neg])\n",
    "# Add a point with x=3\n",
    "X_neg = np.vstack([X_neg, [[3,2]]])"
   ]
  },
  {
   "cell_type": "code",
   "execution_count": 4,
   "metadata": {},
   "outputs": [],
   "source": [
    "# collate data together\n",
    "X = np.vstack([X_pos, X_neg])\n",
    "y = np.concatenate((np.repeat(1,7), np.repeat(0,7)))\n",
    "df = pd.concat([pd.DataFrame(data = X, columns = ['x1', 'x2']),\n",
    "               pd.Series(y, name ='y')],\n",
    "              axis=1)"
   ]
  },
  {
   "cell_type": "code",
   "execution_count": 5,
   "metadata": {},
   "outputs": [
    {
     "data": {
      "text/plain": [
       "Text(3, 2, 'D')"
      ]
     },
     "execution_count": 5,
     "metadata": {},
     "output_type": "execute_result"
    },
    {
     "data": {
      "image/png": "[encoded data removed]",
      "text/plain": [
       "<Figure size 792x612 with 1 Axes>"
      ]
     },
     "metadata": {},
     "output_type": "display_data"
    }
   ],
   "source": [
    "# Plot the data\n",
    "# Use axes level function in sns to draw the random plot\n",
    "\n",
    "# Co-ordinates for lines\n",
    "margin_X = 2 * np.ones(12)\n",
    "margin_Y = np.linspace(-2, 12, num=12)\n",
    "\n",
    "gutter1_X = np.ones(12)\n",
    "gutter1_Y = np.linspace(-2, 12, num=12)\n",
    "\n",
    "gutter2_X = 3 * np.ones(12)\n",
    "gutter2_Y = np.linspace(-2, 12, num=12)\n",
    "\n",
    "# Prepare the plot\n",
    "fig, ax = plt.subplots(figsize = (11, 8.5))\n",
    "sns.scatterplot(x='x1', y='x2', hue='y', style='y', data=df, s=100)\n",
    "ax.axhline(y=0, linewidth=1)\n",
    "ax.axvline(x=0, linewidth=1)\n",
    "\n",
    "plt.plot(margin_X, margin_Y, color='r')\n",
    "plt.plot(gutter1_X, gutter1_Y, 'g-.')\n",
    "plt.plot(gutter2_X, gutter2_Y, 'g-.')\n",
    "\n",
    "plt.text(x=1, y=3, s=\"A\")\n",
    "plt.text(x=1, y=1, s=\"B\")\n",
    "plt.text(x=3, y=2, s=\"D\")\n",
    "\n"
   ]
  },
  {
   "cell_type": "code",
   "execution_count": 6,
   "metadata": {},
   "outputs": [
    {
     "data": {
      "text/html": [
       "<div>\n",
       "<style scoped>\n",
       "    .dataframe tbody tr th:only-of-type {\n",
       "        vertical-align: middle;\n",
       "    }\n",
       "\n",
       "    .dataframe tbody tr th {\n",
       "        vertical-align: top;\n",
       "    }\n",
       "\n",
       "    .dataframe thead th {\n",
       "        text-align: right;\n",
       "    }\n",
       "</style>\n",
       "<table border=\"1\" class=\"dataframe\">\n",
       "  <thead>\n",
       "    <tr style=\"text-align: right;\">\n",
       "      <th></th>\n",
       "      <th>x1</th>\n",
       "      <th>x2</th>\n",
       "      <th>y</th>\n",
       "    </tr>\n",
       "  </thead>\n",
       "  <tbody>\n",
       "    <tr>\n",
       "      <th>0</th>\n",
       "      <td>0</td>\n",
       "      <td>4</td>\n",
       "      <td>1</td>\n",
       "    </tr>\n",
       "    <tr>\n",
       "      <th>1</th>\n",
       "      <td>-4</td>\n",
       "      <td>0</td>\n",
       "      <td>1</td>\n",
       "    </tr>\n",
       "    <tr>\n",
       "      <th>2</th>\n",
       "      <td>-2</td>\n",
       "      <td>1</td>\n",
       "      <td>1</td>\n",
       "    </tr>\n",
       "    <tr>\n",
       "      <th>3</th>\n",
       "      <td>-5</td>\n",
       "      <td>2</td>\n",
       "      <td>1</td>\n",
       "    </tr>\n",
       "    <tr>\n",
       "      <th>4</th>\n",
       "      <td>-1</td>\n",
       "      <td>3</td>\n",
       "      <td>1</td>\n",
       "    </tr>\n",
       "    <tr>\n",
       "      <th>5</th>\n",
       "      <td>1</td>\n",
       "      <td>1</td>\n",
       "      <td>1</td>\n",
       "    </tr>\n",
       "    <tr>\n",
       "      <th>6</th>\n",
       "      <td>1</td>\n",
       "      <td>3</td>\n",
       "      <td>1</td>\n",
       "    </tr>\n",
       "    <tr>\n",
       "      <th>7</th>\n",
       "      <td>7</td>\n",
       "      <td>1</td>\n",
       "      <td>0</td>\n",
       "    </tr>\n",
       "    <tr>\n",
       "      <th>8</th>\n",
       "      <td>10</td>\n",
       "      <td>4</td>\n",
       "      <td>0</td>\n",
       "    </tr>\n",
       "    <tr>\n",
       "      <th>9</th>\n",
       "      <td>4</td>\n",
       "      <td>6</td>\n",
       "      <td>0</td>\n",
       "    </tr>\n",
       "    <tr>\n",
       "      <th>10</th>\n",
       "      <td>9</td>\n",
       "      <td>2</td>\n",
       "      <td>0</td>\n",
       "    </tr>\n",
       "    <tr>\n",
       "      <th>11</th>\n",
       "      <td>8</td>\n",
       "      <td>3</td>\n",
       "      <td>0</td>\n",
       "    </tr>\n",
       "    <tr>\n",
       "      <th>12</th>\n",
       "      <td>5</td>\n",
       "      <td>5</td>\n",
       "      <td>0</td>\n",
       "    </tr>\n",
       "    <tr>\n",
       "      <th>13</th>\n",
       "      <td>3</td>\n",
       "      <td>2</td>\n",
       "      <td>0</td>\n",
       "    </tr>\n",
       "  </tbody>\n",
       "</table>\n",
       "</div>"
      ],
      "text/plain": [
       "    x1  x2  y\n",
       "0    0   4  1\n",
       "1   -4   0  1\n",
       "2   -2   1  1\n",
       "3   -5   2  1\n",
       "4   -1   3  1\n",
       "5    1   1  1\n",
       "6    1   3  1\n",
       "7    7   1  0\n",
       "8   10   4  0\n",
       "9    4   6  0\n",
       "10   9   2  0\n",
       "11   8   3  0\n",
       "12   5   5  0\n",
       "13   3   2  0"
      ]
     },
     "execution_count": 6,
     "metadata": {},
     "output_type": "execute_result"
    }
   ],
   "source": [
    "df"
   ]
  },
  {
   "cell_type": "code",
   "execution_count": 7,
   "metadata": {},
   "outputs": [
    {
     "data": {
      "text/plain": [
       "array([[3., 2.],\n",
       "       [1., 1.],\n",
       "       [1., 3.]])"
      ]
     },
     "execution_count": 7,
     "metadata": {},
     "output_type": "execute_result"
    }
   ],
   "source": [
    "# Fit the model\n",
    "model = svm.SVC(kernel='linear')\n",
    "model.fit(X,y)\n",
    "model.support_vectors_\n"
   ]
  },
  {
   "cell_type": "code",
   "execution_count": 8,
   "metadata": {},
   "outputs": [
    {
     "data": {
      "text/plain": [
       "array([13,  5,  6])"
      ]
     },
     "execution_count": 8,
     "metadata": {},
     "output_type": "execute_result"
    }
   ],
   "source": [
    "model.support_"
   ]
  },
  {
   "cell_type": "code",
   "execution_count": 9,
   "metadata": {},
   "outputs": [
    {
     "data": {
      "text/plain": [
       "array([1, 2])"
      ]
     },
     "execution_count": 9,
     "metadata": {},
     "output_type": "execute_result"
    }
   ],
   "source": [
    "model.n_support_"
   ]
  },
  {
   "cell_type": "code",
   "execution_count": null,
   "metadata": {},
   "outputs": [],
   "source": []
  },
  {
   "cell_type": "code",
   "execution_count": 10,
   "metadata": {},
   "outputs": [
    {
     "data": {
      "text/plain": [
       "array([[-0.50021647,  0.25010824,  0.25010824]])"
      ]
     },
     "execution_count": 10,
     "metadata": {},
     "output_type": "execute_result"
    }
   ],
   "source": [
    "model.dual_coef_"
   ]
  },
  {
   "cell_type": "markdown",
   "metadata": {},
   "source": [
    "Reconcile the above values with manually calculated $\\alpha$ values above"
   ]
  },
  {
   "cell_type": "code",
   "execution_count": 11,
   "metadata": {},
   "outputs": [
    {
     "data": {
      "text/plain": [
       "array([[-1.00043294e+00, -1.11022302e-16]])"
      ]
     },
     "execution_count": 11,
     "metadata": {},
     "output_type": "execute_result"
    }
   ],
   "source": [
    "model.coef_"
   ]
  },
  {
   "cell_type": "markdown",
   "metadata": {},
   "source": [
    "Reconcile the above values with the values calculated for $\\vec{w}$."
   ]
  },
  {
   "cell_type": "code",
   "execution_count": 12,
   "metadata": {},
   "outputs": [
    {
     "data": {
      "text/plain": [
       "array([2.00072157])"
      ]
     },
     "execution_count": 12,
     "metadata": {},
     "output_type": "execute_result"
    }
   ],
   "source": [
    "model.intercept_"
   ]
  },
  {
   "cell_type": "markdown",
   "metadata": {},
   "source": [
    "Reconcile the above with values calculated for b"
   ]
  },
  {
   "cell_type": "markdown",
   "metadata": {},
   "source": [
    "#### Insights\n",
    "1. $\\vec{w}$ was calculated as $\\begin{bmatrix} -1 & 0 \\end{bmatrix}$\n",
    "Values from python program array([[-0.99968,  0.     ]])\n",
    "\n",
    "2. Value of the intercept derived is 1.99946. Value derived via manual calculation is 2.\n",
    "\n",
    "3. Values of support vectors derived are : \n",
    "$$\\alpha_A = 1/4$$\n",
    "$$\\alpha_B = 1/4$$\n",
    "$$\\alpha_D = 1/2$$\n",
    "\n",
    "Values from python program, derived via dual_coef_ array([[-0.49984,  0.24992,  0.24992]]), matches, ordering by class of the support vectors probably."
   ]
  },
  {
   "cell_type": "markdown",
   "metadata": {},
   "source": [
    "## Additional Questions"
   ]
  },
  {
   "cell_type": "markdown",
   "metadata": {},
   "source": [
    "Questions to ponder upon:\n",
    "\n",
    "* 1. What happens if the support vectors move far out horizontally? What will happen to supportiveness of the points? What will happen to weights?\n",
    "* 2. What happens if support vectors move vertically? What will happen to the supportiveness of points? What will happen to weights?"
   ]
  },
  {
   "cell_type": "markdown",
   "metadata": {},
   "source": [
    "# Appendix\n",
    "This section just lists the code used from drawing figures in the notebook for completeness"
   ]
  },
  {
   "cell_type": "markdown",
   "metadata": {},
   "source": [
    "##### Figure1 : Decision rule"
   ]
  },
  {
   "cell_type": "code",
   "execution_count": 13,
   "metadata": {},
   "outputs": [
    {
     "data": {
      "image/png": "[encoded data removed]",
      "text/plain": [
       "<Figure size 432x288 with 1 Axes>"
      ]
     },
     "metadata": {},
     "output_type": "display_data"
    }
   ],
   "source": [
    "import matplotlib.pyplot as plt\n",
    "import math\n",
    "import numpy as np\n",
    "import random\n",
    "\n",
    "gutter1_intercept = 5\n",
    "midpoint_intercept = 6\n",
    "gutter2_intercept = 7\n",
    "slope = -1\n",
    "\n",
    "fig, ax = plt.subplots()\n",
    "\n",
    "vec_w_dir = 1\n",
    "vec_w_size = 5\n",
    "vec_u_dir = 2\n",
    "vec_u_size = 6\n",
    "offset = 0.4\n",
    "\n",
    "ax.quiver(0, 0, vec_w_dir , 5, angles='xy', scale_units='xy', scale=1)\n",
    "ax.annotate('w', (vec_w_dir - offset, vec_w_size ),fontsize=18)\n",
    "ax.quiver(0, 0, vec_u_dir , vec_u_size, angles='xy', scale_units='xy', scale=1)\n",
    "ax.annotate('u', (vec_u_dir-offset , vec_u_size),fontsize=18)\n",
    "\n",
    "def ymxb(slope, intercept, x):\n",
    "    return slope * x + intercept\n",
    "\n",
    "num_points = 10\n",
    "x1 = [random.randrange(start=0, stop=9) for i in range(20)]\n",
    "x2 = [random.randrange(start=0, stop=9) for i in range(20)]\n",
    "y1 = [ymxb(slope, gutter1_intercept, x) - random.randrange(start=1, stop=3) for x in x1]\n",
    "y2 = [ymxb(slope, gutter2_intercept, x) + random.randrange(start=1, stop=4) for x in x2]\n",
    "\n",
    "gutter_y1 = [ymxb(slope, gutter1_intercept, x) for x in x1]\n",
    "gutter_y2 = [ymxb(slope, gutter2_intercept, x) for x in x2]\n",
    "midpoint_y1 = [ymxb(slope, midpoint_intercept, x) for x in x1]\n",
    "\n",
    "plt.scatter(x1, y1, c='blue', marker = '+')\n",
    "plt.scatter(x2, y2, c='red', marker = 'x')\n",
    "plt.scatter(x1, gutter_y1, c='blue', marker = 'v')\n",
    "plt.scatter(x2, gutter_y2, c='red', marker = '^')\n",
    "\n",
    "plt.plot([max(x1) ,min(x1)],[min(gutter_y1) ,max(gutter_y1) ], c='blue')\n",
    "plt.plot([max(x1) ,min(x1)],[min(midpoint_y1) ,max(midpoint_y1) ], c='black', linestyle=\"--\")\n",
    "plt.plot([max(x1), min(x2)],[min(gutter_y2), max(gutter_y2)], c='red')\n",
    "\n",
    "\n",
    "\n",
    "plt.show()"
   ]
  },
  {
   "cell_type": "markdown",
   "metadata": {},
   "source": [
    "#### Figure 2 : Width of the hyperplane"
   ]
  },
  {
   "cell_type": "code",
   "execution_count": 14,
   "metadata": {},
   "outputs": [
    {
     "data": {
      "image/png": "[encoded data removed]",
      "text/plain": [
       "<Figure size 432x288 with 1 Axes>"
      ]
     },
     "metadata": {},
     "output_type": "display_data"
    }
   ],
   "source": [
    "gutter1_intercept = 5\n",
    "midpoint_intercept = 6\n",
    "gutter2_intercept = 7\n",
    "slope = -1\n",
    "\n",
    "fig, ax = plt.subplots()\n",
    "\n",
    "vec_w_x = 3\n",
    "vec_w_y = 2\n",
    "vec_u_x = 2\n",
    "vec_u_y = 5\n",
    "offset = -0.2\n",
    "\n",
    "ax.quiver(0, 0, vec_w_x , vec_w_y, angles='xy', scale_units='xy', scale=1)\n",
    "ax.annotate('x+', (vec_w_x - offset,vec_w_y),fontsize=18, color=\"green\")\n",
    "ax.quiver(0, 0, vec_u_x, vec_u_y, angles='xy', scale_units='xy', scale=1)\n",
    "ax.annotate('x-', (vec_u_x-offset ,vec_u_y),fontsize=18, color=\"green\")\n",
    "ax.quiver(vec_u_x, vec_u_y, vec_w_x-vec_u_x, vec_w_y - vec_u_y, scale=1, angles='xy', scale_units='xy', linestyle='--')\n",
    "\n",
    "def ymxb(slope, intercept, x):\n",
    "    return slope * x + intercept\n",
    "\n",
    "num_points = 10\n",
    "x1 = [random.randrange(start=0, stop=9) for i in range(20)]\n",
    "x2 = [random.randrange(start=0, stop=9) for i in range(20)]\n",
    "y1 = [ymxb(slope, gutter1_intercept, x) - random.randrange(start=1, stop=3) for x in x1]\n",
    "y2 = [ymxb(slope, gutter2_intercept, x) + random.randrange(start=1, stop=4) for x in x2]\n",
    "\n",
    "gutter_y1 = [ymxb(slope, gutter1_intercept, x) for x in x1]\n",
    "gutter_y2 = [ymxb(slope, gutter2_intercept, x) for x in x2]\n",
    "\n",
    "plt.plot([max(x1) ,min(x1)],[min(gutter_y1) ,max(gutter_y1) ], c='blue')\n",
    "plt.plot([max(x1), min(x2)],[min(gutter_y2), max(gutter_y2)], c='red')\n",
    "plt.show()"
   ]
  },
  {
   "cell_type": "markdown",
   "metadata": {},
   "source": []
  }
 ],
 "metadata": {
  "kernelspec": {
   "display_name": "Python 3",
   "language": "python",
   "name": "python3"
  },
  "language_info": {
   "codemirror_mode": {
    "name": "ipython",
    "version": 3
   },
   "file_extension": ".py",
   "mimetype": "text/x-python",
   "name": "python",
   "nbconvert_exporter": "python",
   "pygments_lexer": "ipython3",
   "version": "3.8.3"
  }
 },
 "nbformat": 4,
 "nbformat_minor": 4
}
