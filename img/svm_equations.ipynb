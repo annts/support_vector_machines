{
 "cells": [
  {
   "cell_type": "markdown",
   "metadata": {},
   "source": [
    "Currently, Github is unable to render a few equations. Some of the limitations\n",
    "currently encountered is \n",
    "1. Not able to highlight yellow backgrounds in Github\n",
    "2. bmatrix is not rendering correctly in Github\n",
    "\n",
    "As a work around, images of the equations are captured into img folder and main \n",
    "notebooks references the images, instead of the equations. To keep the main notebooks\n",
    "relatively clutter free, such equations are listed here."
   ]
  },
  {
   "cell_type": "markdown",
   "metadata": {},
   "source": [
    "$\\require {color}$\n",
    "$\\colorbox{yellow} {Decision Rule : $\\vec{w}.\\vec{u} +b >=0$ then +1 else -1}$"
   ]
  },
  {
   "cell_type": "markdown",
   "metadata": {},
   "source": [
    "$ \\require {color}$\n",
    "$ \\colorbox{yellow} {Width of the hyperplane = $\\frac{2}{\\lVert w \\rVert}$} $"
   ]
  },
  {
   "cell_type": "markdown",
   "metadata": {},
   "source": [
    "$ \\require {color}$\n",
    "$ \\colorbox{yellow} {$ L = {\\frac{1}{2}}{\\lVert}w{\\rVert}^2 - \\sum \\alpha_i{\\lbrack}y_i(\\vec{w}\\vec{x_i}+b) -1{\\rbrack}$}\n",
    "$"
   ]
  },
  {
   "cell_type": "markdown",
   "metadata": {},
   "source": [
    "$$\\sum \\alpha_i y_i = 0 $$"
   ]
  },
  {
   "cell_type": "markdown",
   "metadata": {},
   "source": [
    "$ \\require {color}$\n",
    "$ \\colorbox{yellow} {$ \\sum \\alpha_i y_i = 0 $}\n",
    "$"
   ]
  },
  {
   "cell_type": "markdown",
   "metadata": {},
   "source": [
    "$ \\require {color}$\n",
    "$ \\colorbox{yellow} {$ \\vec{w} = \\sum {\\alpha_i} y_i \\vec{x_i} $}\n",
    "$"
   ]
  },
  {
   "cell_type": "markdown",
   "metadata": {},
   "source": [
    "$$\\vec{w} = \\sum {\\alpha_i} y_i \\vec{x_i} $$"
   ]
  },
  {
   "cell_type": "markdown",
   "metadata": {},
   "source": [
    "### Notebook on Regularization"
   ]
  },
  {
   "cell_type": "markdown",
   "metadata": {},
   "source": [
    "###### equation_1\n",
    "$$ L_P = \\frac{\\lVert{w}\\rVert^2}{2} + C \\sum \\xi_i - \\sum \\limits_{i} \\alpha_i \\{y_i (x_i.w + b)- 1 + \\xi_i\\} - \\sum \\limits_{i} \\mu_i \\xi_i \\cdots\\cdots equation_1$$"
   ]
  },
  {
   "cell_type": "markdown",
   "metadata": {},
   "source": [
    "##### equation_2\n",
    "\n",
    "$$ \\frac{\\partial{L_p}}{\\partial{w_v}} = {w_v} - \\sum \\limits_{i} \\alpha_i y_i x_{iv} = 0 \\cdots\\cdots equation_2$$\n",
    "\n"
   ]
  },
  {
   "cell_type": "markdown",
   "metadata": {},
   "source": [
    "##### equation_3\n",
    "\n",
    "$$ \\frac{\\partial{L_p}}{\\partial{b}} = \\sum \\limits_{i} \\alpha_i y_i = 0  \\cdots\\cdots equation_3$$"
   ]
  }
 ],
 "metadata": {
  "kernelspec": {
   "display_name": "Python 3",
   "language": "python",
   "name": "python3"
  },
  "language_info": {
   "codemirror_mode": {
    "name": "ipython",
    "version": 3
   },
   "file_extension": ".py",
   "mimetype": "text/x-python",
   "name": "python",
   "nbconvert_exporter": "python",
   "pygments_lexer": "ipython3",
   "version": "3.8.3"
  }
 },
 "nbformat": 4,
 "nbformat_minor": 4
}
