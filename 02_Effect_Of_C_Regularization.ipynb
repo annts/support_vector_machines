{
 "cells": [
  {
   "cell_type": "markdown",
   "metadata": {},
   "source": [
    "# Purpose\n",
    "Purpose of the notebook is to demonstrate the soft constraint that can be incorporated into support vector machines when the classes to be predicted are not linearly separable. It tends to be used in most real world scenarios as the classes are not linearly separable. \n",
    "\n",
    "First, we will formulate the constraint and update the objective to cut some slack. Then, we will find the solution through optimisation. Then, we will develop intuitions on how the algorithm performs using the maths basics developed so far. Then, we will derive hinge loss and view the support vector machine through empirical risk minimisation framework. In the final section, we will use code to test out all the concepts developed in the notebook.\n"
   ]
  },
  {
   "cell_type": "markdown",
   "metadata": {},
   "source": [
    "# Table Of Contents\n",
    "1. Mathematical Formulation\n",
    "2. Optimisation\n",
    "3. Insights from Optimisation\n",
    "4. Derive Hinge Loss\n",
    "5. Code Walkthrough"
   ]
  },
  {
   "cell_type": "markdown",
   "metadata": {},
   "source": [
    "# 1. Mathematical Formulation\n",
    "#### Let's derive the soft constraint\n",
    "\n",
    "In support vector classifiers With the hard constraint, we maximise the width of the hyperplane $\\frac{2}{\\lVert{w}\\rVert}$. This is same as minimising L2 norm of w. $\\frac{\\lVert{w}\\rVert}{2}^2$.\n",
    "\n",
    "What happens if the points are not linearly separable? Consider diagram below, there are some blue points mixed up with red points and it is not possible to draw a line separating the two set of points\n",
    "<img src=\"./img/02_slack_demo.png\" width=\"400\">\n",
    "\n",
    "Solution is to relax the rule when it is too hard to follow the constraint. Allow some wiggle room to break the rules, but put some controls on the amount of violations allowed. Wiggle room allowed can be denoted by  a positive slack variable $\\xi_i, i=1, 2, 3..l$ in the constraints where $l$ is the number of training examples. \n",
    "\n",
    "<img src=\"./img/02_slack_demo_notation.png\" width=\"400\">\n",
    "\n",
    "Note, slack is the distance from support vector plane to the individual points. It is not the distance from the decision boundary(median of the hyperplane). In the above diagram, yellow line denotes the support vector for the blue dots. Hence, slack is the distance from the yellow line to the blue dots that are erraneously in the red side.\n",
    "\n",
    "1. $ \\xi_i = 0$ means we have correctly classified the point.\n",
    "2. $ 0 < \\xi_i < 1 $ means we have correctly classified the point, but point lies betweeen decision bounday and support vector margin\n",
    "3. $ \\xi_i > 1$ means we have misclassified the point\n",
    "\n",
    "With the slack variable, updated constraints becomes:\n",
    "\n",
    "$$x_i.w + b \\ge +1 - \\xi_i \\text{for} y_i = +1 $$\n",
    "$$x_i.w + b \\le -1 + \\xi_i \\text{for} y_i = -1 $$\n",
    "$$x_i.w + b \\le -1( 1 - \\xi_i) \\text{for} y_i = -1 $$\n",
    "$$ \\xi_i \\ge 0 \\text{ for every i} $$\n",
    "\n",
    "Decision rule $y_i(\\vec{w}x_i + b) \\ge 1 $ can be rewritten as $$y_i(\\vec{w}x_i + b) \\ge 1 - \\xi_i$$ such that $\\sum \\xi_i$ is as small as possible.\n",
    "\n",
    "Slacking is allowed only when necessary. If that is not the case, every margin will be infinitely large with maximum slacking possible. To make sure slacking is controlled, we need to modify the original minimisation objective to incorporate minimising the $\\sum \\xi_i$. So, the new objective function to minimise is\n",
    "$$\\frac{\\lVert{w}\\rVert^2}{2} + C \\sum \\xi_i $$ C is the hyperparameter that pays for the losses. \n",
    "\n",
    "This can be extended into L1 loss and L2 loss as: \n",
    "\n",
    "$$\\textrm{L1 Loss:} \\frac{\\lVert{w}\\rVert^2}{2} + C \\sum \\xi_i $$\n",
    " \n",
    "$$\\textrm{L2 Loss:} \\frac{\\lVert{w}\\rVert^2}{2} + C \\sum (\\xi_i)^2 $$\n"
   ]
  },
  {
   "cell_type": "markdown",
   "metadata": {},
   "source": [
    "# 2. Optimisation\n",
    "\n",
    "\n",
    "Our objective function is $$\\frac{\\lVert{w}\\rVert^2}{2} + C \\sum \\xi_i $$\n",
    "\n",
    "Constraints  formulated are:\n",
    "$$y_i(\\vec{w}x_i + b) \\ge 1 - \\xi_i$$\n",
    "$$ \\xi_i \\ge 0 \\text{ for every i} $$\n",
    "\n",
    "To maximise or minimise the objective with inequality constraints, we use [Karush-Kuhn-Tucker conditions](https://en.wikipedia.org/wiki/Karush%E2%80%93Kuhn%E2%80%93Tucker_conditions) to solve for the optimisation problem. Approach involves formulating a lagragian primal problem and checking the various KKT conditions listed below.\n",
    "\n",
    "To formulate the lagrangian primal problem, we combine the constraints listed above by introducing lagrangian multipliers $\\alpha$ and $\\mu$\n",
    "\n",
    "Langrangian primal problem  is \n",
    "<img src=\"./img/notebook2/equation_1.png\" width=600>\n",
    "where $\\mu_i$ and $\\alpha_i$ are the Lagrangian multipliers introduced.\n",
    "\n",
    "In the below equations, i runs from 1 to the number of training points, and $v$ runs from 1 to dimension of data.\n",
    "From stationarity conditions from KKT, we will differentiate w.r.t changing variables and assign them to 0:\n",
    "For detailed derivation of below two equations, please refer to [01_SVM_Foundational_Maths notebook](./01_SVM_Foundational_Maths.ipynb).\n",
    "<img src=\"./img/notebook2/equation_2.png\" width=400>\n",
    "\n",
    "<img src=\"./img/notebook2/equation_3.png\" width=300>\n",
    "\n",
    "In addition, there is one more variable $\\xi$\n",
    "$$ \\frac{\\partial{L_p}}{\\partial{\\xi_i}} = C - \\alpha_i - \\mu_i = 0 \\cdots\\cdots equation_4$$\n",
    "\n",
    "From dual feasibility conditions from KKT:\n",
    "$$ y_i (x_i.w + b)- 1 + \\xi_i \\ge 0 \\longrightarrow equation_5$$\n",
    "$$ \\xi_i \\ge 0 \\cdots\\cdots equation_6$$\n",
    "$$ \\alpha_i \\ge 0 \\cdots\\cdots equation_7$$\n",
    "$$ \\mu_i \\ge 0 \\cdots\\cdots equation_8$$\n",
    "\n",
    "From complementary slackness conditions from KKT:\n",
    "\n",
    "$$\\alpha_i \\{y_i (x_i.w + b)- 1 + \\xi_i\\} = 0 \\cdots\\cdots equation_9$$\n",
    "$$\\mu_i \\xi_i = 0 \\cdots\\cdots equation_{10}$$\n",
    "\n",
    "\n"
   ]
  },
  {
   "cell_type": "markdown",
   "metadata": {},
   "source": [
    "### Deriving intuitions on solution, $\\alpha$ and $C$\n",
    "\n",
    "#### For points on the wrong side of support vector margin\n",
    "Combining equations 4, 7 and 10 \n",
    "\n",
    "$$ \\frac{\\partial{L_p}}{\\partial{\\xi_i}} = C - \\alpha_i - \\mu_i = 0 \\cdots\\cdots equation_4$$\n",
    "$$ \\alpha_i \\ge 0 \\cdots\\cdots equation_7$$\n",
    "$$\\mu_i \\xi_i = 0 \\cdots\\cdots equation_{10}$$\n",
    "\n",
    "From $equation_{4}$ $$\\mu_i = C - \\alpha_i$$\n",
    "Substituting $\\mu_i$ into $equation_{10}$\n",
    "$$ (C - \\alpha_i) \\xi_i = 0 $$\n",
    "\n",
    "$$ \\alpha_i \\ge 0 \\cdots\\cdots equation_7$$\n",
    "\n",
    "So, from $equation_7$ and $equation_10$ we have got: \n",
    "$$ (C - \\alpha_i) \\xi_i = 0 and \\alpha_i \\gt 0 $$\n",
    "\n",
    "Consider points where $(x_i.w + b)< 1$. For such points, we know the slack variable is allowed. \n",
    "$$ \\xi_i \\neq 0 then C = \\alpha_i $$\n",
    "\n",
    "\n",
    "Conversely, consider $ \\alpha_i = C $\n",
    "$$\\alpha_i \\{y_i (x_i.w + b)- 1 + \\xi_i\\} = 0 \\cdots\\cdots equation_9$$\n",
    "$$\\{y_i (x_i.w + b)- 1 + \\xi_i\\} = 0$$\n",
    "$$y_i(x_i.w + b) = 1 - \\xi_i$$\n",
    "$$y_i(x_i.w + b) \\le 1$$\n",
    "\n",
    "In the code below, printing out $\\alpha_i$(dual_coef in sklearn construct) for different C, it can be observed that for some points $C=\\alpha_i$. We can then infer that those points are the ones where slack variable is allowed (i.e, points are either on the wrong side of the hyperplane or points are between the dividing hyperplane and support vector margin)\n",
    "\n",
    "$$ \\alpha_i < C then \\xi_i=0 $$"
   ]
  },
  {
   "cell_type": "markdown",
   "metadata": {},
   "source": [
    "#### For points on the correct side of support vector margin\n",
    "From complementary slackness conditions from KKT:\n",
    "\n",
    "$$\\alpha_i \\{y_i (x_i.w + b)- 1 + \\xi_i\\} = 0 \\cdots\\cdots equation_9$$\n",
    "For the points that are correctly classified \n",
    "$y_i (x_i.w + b) > 1$. \n",
    "$y_i (x_i.w + b)- 1$ is greater than 0. So, $\\alpha_i$ is 0, for points that lie on the correct side of the hyperplane. This leads to the sparsity of the solution.\n",
    "\n",
    "\n",
    "\n"
   ]
  },
  {
   "cell_type": "markdown",
   "metadata": {},
   "source": [
    "[Reference](https://www.mit.edu/~9.520/spring12/slides/class06/class06_RLSSVM.pdf)"
   ]
  },
  {
   "cell_type": "markdown",
   "metadata": {},
   "source": [
    "# 3. Insights from Optimisation: \n",
    "* $\\xi_i$ is the distance from the gutter of the hyperplane and not the decision boundary\n",
    "\n",
    "* C is the cost of slacking the algorithm adopts. For small values of C, cost of slacking is small. Therefore, more misclassification is allowed to achieve the objective of maximising margin and obtaining a large margin. If C is very high, the algorithm needs to pay a lot for the mistakes, so width of the hyperplane tends to be narrower. When C is high, cost of slacking is high, margin is smaller.\n",
    "\n",
    "* When the points are in the same side of the decision boundary, but within the gutters, there is still a price to pay. This is the situation where $ 0 < \\xi_i < 1 $\n",
    "\n",
    "* Misclassified points are also part of the support vectors\n",
    "\n",
    "* $\\alpha$ is box constrained between 0 and C\n",
    "\n",
    "* Most important data points are the support vectors with the highest values of alpha\n",
    "\n",
    "* For the non separable case, upper bound of alpha on C puts a maximum limit on the influence any point can have on the final outcome.\n",
    "\n",
    "* Because C is dependant on the number of training examples, there is a strategy to evaluate scaling of C with the number of training examples. This [sklearn documentation](https://scikit-learn.org/stable/auto_examples/svm/plot_svm_scale_c.html) provides the details.How do we optimally adjust C to account for the different amount of training samples?\n",
    "We can scale C to compensate for the change in the number of samples, in the case of using an l1 penalty, as well as the l2 penalty. In the l1 case, theory says that prediction consistency (i.e. that under given hypothesis, the estimator learned predicts as well as a model knowing the true distribution) is not possible because of the bias of the l1. It does say, however, that model consistency, in terms of finding the right set of non-zero parameters as well as their signs, can be achieved by scaling C1"
   ]
  },
  {
   "cell_type": "markdown",
   "metadata": {},
   "source": [
    "# 4. Formulating as Hinge Loss"
   ]
  },
  {
   "cell_type": "markdown",
   "metadata": {},
   "source": [
    "Since, we have overall objective of minimising $\\xi_i$, if the point is classified perfectly without the need for slack variable $\\xi_i$, the algorithm needs to do that. So, $\\xi_i = 0$ for those cases.This can be formalised as $$\\xi_i = 0 \\textrm{if} y_i(\\vec{w}x_i + b) >= 1$$\n",
    "\n",
    "For other cases, slack variable $\\xi_i$ is set as the distance from the separating gutter.i.e if $y_i(\\vec{w}x_i + b)<1$ $$ \\xi_i = 1 - y_i(\\vec{w}x_i + b) $$ \n",
    "\n",
    "Both the conditions above can be combined to obtain the following \n",
    "\n",
    "$$ \\xi_i = max (0 , 1-y_i(\\vec{w}x_i + b)$$\n",
    "\n",
    "Objective function to minimise - $$\\frac{\\lVert{w}\\rVert^2}{2} + \\sum \\xi_i $$\n",
    "\n",
    "can be upgraded as $$\\frac{\\lVert{w}\\rVert^2}{2} + C* \\sum max (0 , 1-y_i(\\vec{w}x_i + b)$$"
   ]
  },
  {
   "cell_type": "markdown",
   "metadata": {},
   "source": [
    "### SVM Hinge Loss insights\n",
    "\n",
    "Objective function to minimise in SVM is: \n",
    "$$\\frac{\\lVert{w}\\rVert^2}{2} + C* \\sum max (0 , 1-y_i(\\vec{w}x_i + b)$$\n",
    "\n",
    "The component $\\sum max (0 , 1-y_i(\\vec{w}x_i + b)$ looks at the loss coming from each training sample. So, this is the loss function.\n",
    "\n",
    "The component $\\frac{\\lVert{w}\\rVert^2}{2}$ is the component that keeps the solution simple. Minimal weights needed for the hyperplane. This is the regularization function.\n",
    "\n",
    "Multiplying the equation through by $\\frac{1}{2C n}$\n",
    "$$\\frac{1}{2C n} \\frac{\\lVert{w}\\rVert^2}{2} + 1/2n * \\sum max (0 , 1-y_i(\\vec{w}x_i + b)$$\n",
    "So, combined the objective function can be rewitten as Loss function + $\\lambda$* Regularization function.\n",
    "\n",
    "$C$ = $\\frac{1}{2\\lambda n}$\n",
    "\n",
    "$\\lambda = \\frac{1}{2C n}$\n",
    "This also confirms the intuition how large values of C leads to less regularization.\n"
   ]
  },
  {
   "cell_type": "markdown",
   "metadata": {},
   "source": [
    "# 5. Code Walkthrough\n",
    "#### 5.1 Generate train data"
   ]
  },
  {
   "cell_type": "code",
   "execution_count": 1,
   "metadata": {},
   "outputs": [],
   "source": [
    "import random\n",
    "\n",
    "import pandas as pd\n",
    "import numpy as np\n",
    "\n",
    "from sklearn import svm\n",
    "from sklearn.model_selection import GridSearchCV\n",
    "from matplotlib import pyplot as plt"
   ]
  },
  {
   "cell_type": "code",
   "execution_count": 2,
   "metadata": {},
   "outputs": [
    {
     "data": {
      "text/plain": [
       "<matplotlib.collections.PathCollection at 0x2a4bc957640>"
      ]
     },
     "execution_count": 2,
     "metadata": {},
     "output_type": "execute_result"
    },
    {
     "data": {
      "image/png": "[encoded data removed]",
      "text/plain": [
       "<Figure size 432x288 with 1 Axes>"
      ]
     },
     "metadata": {
      "needs_background": "light"
     },
     "output_type": "display_data"
    }
   ],
   "source": [
    "def ymxb(slope, intercept, x):\n",
    "    return slope * x + intercept\n",
    "\n",
    "def generate_linear_points(num_points, slope, line1_intercept, line2_intercept):\n",
    "    x1 = [random.randrange(start=0, stop=9) for i in range(num_points)]\n",
    "    x2 = [random.randrange(start=0, stop=9) for i in range(num_points)]\n",
    "    y1 = [ymxb(slope, line1_intercept, x) - random.randrange(start=1, stop=3) for x in x1]\n",
    "    y2 = [ymxb(slope, line2_intercept, x) + random.randrange(start=1, stop=4) for x in x2]\n",
    "    return np.c_[x1, y1], np.c_[x2, y2]\n",
    "\n",
    "num_points_correct = 20\n",
    "X_pos, X_neg = generate_linear_points(num_points_correct, -1, 5, 6)\n",
    "\n",
    "# Generate mistaken points\n",
    "num_points_misclass = 3\n",
    "x_pos, x_neg = generate_linear_points(num_points_misclass, -1, 5, 6)\n",
    "\n",
    "# concatenate the 2 lists that are returned by the function, to pass in a single function\n",
    "X_pos = np.vstack([X_pos,x_neg])\n",
    "X_neg  = np.vstack([X_neg, x_pos])\n",
    "\n",
    "# Concatenate the 2 together\n",
    "X = np.vstack([X_pos, X_neg])\n",
    "y = np.hstack([np.ones(num_points_correct + num_points_misclass ).T, \n",
    "               np.ones(num_points_correct + num_points_misclass).T *-1])\n",
    "plt.title(\"Train Data\")\n",
    "plt.scatter(X[:, 0], X[:, 1], c = y)"
   ]
  },
  {
   "cell_type": "markdown",
   "metadata": {},
   "source": [
    "#### 5.2 Generate test data"
   ]
  },
  {
   "cell_type": "code",
   "execution_count": 3,
   "metadata": {},
   "outputs": [
    {
     "data": {
      "text/plain": [
       "<matplotlib.collections.PathCollection at 0x2a4bca11a30>"
      ]
     },
     "execution_count": 3,
     "metadata": {},
     "output_type": "execute_result"
    },
    {
     "data": {
      "image/png": "[encoded data removed]",
      "text/plain": [
       "<Figure size 432x288 with 1 Axes>"
      ]
     },
     "metadata": {
      "needs_background": "light"
     },
     "output_type": "display_data"
    }
   ],
   "source": [
    "num_points_correct = 20\n",
    "X_pos_test, X_neg_test = generate_linear_points(num_points_correct, -1, 5, 6)\n",
    "\n",
    "# Generate mistaken points\n",
    "num_points_misclass = 3\n",
    "x_pos_test, x_neg_test = generate_linear_points(num_points_misclass, -1, 5, 6)\n",
    "\n",
    "# concatenate the 2 lists that are returned by the function, to pass in a single function\n",
    "X_pos_test = np.vstack([X_pos_test,x_neg_test])\n",
    "X_neg_test  = np.vstack([X_neg_test, x_pos_test])\n",
    "\n",
    "# Concatenate the 2 together\n",
    "X_test = np.vstack([X_pos_test, X_neg_test])\n",
    "y_test = np.hstack([np.ones(num_points_correct + num_points_misclass ).T, \n",
    "               np.ones(num_points_correct + num_points_misclass).T * -1])\n",
    "\n",
    "plt.title(\"Test Data\")\n",
    "plt.scatter(X_test[:, 0], X_test[:, 1], c = y_test)"
   ]
  },
  {
   "cell_type": "markdown",
   "metadata": {},
   "source": [
    "#### 5.3 Hyperparameter Search C\n",
    "Perform GridSearchCV across a lost of values of C for the linear kernel."
   ]
  },
  {
   "cell_type": "code",
   "execution_count": 4,
   "metadata": {},
   "outputs": [
    {
     "name": "stdout",
     "output_type": "stream",
     "text": [
      "   mean_fit_time  std_fit_time  mean_score_time  std_score_time param_C  \\\n",
      "0       0.002798      0.002398         0.001202    4.008613e-04    0.01   \n",
      "1       0.002000      0.002000         0.001000    7.629395e-07     0.1   \n",
      "2       0.002000      0.001550         0.000601    4.903694e-04       1   \n",
      "3       0.001802      0.000751         0.000798    3.989831e-04      10   \n",
      "\n",
      "  param_kernel                           params  split0_test_score  \\\n",
      "0       linear  {'C': 0.01, 'kernel': 'linear'}                1.0   \n",
      "1       linear   {'C': 0.1, 'kernel': 'linear'}                1.0   \n",
      "2       linear     {'C': 1, 'kernel': 'linear'}                1.0   \n",
      "3       linear    {'C': 10, 'kernel': 'linear'}                1.0   \n",
      "\n",
      "   split1_test_score  split2_test_score  split3_test_score  split4_test_score  \\\n",
      "0                1.0                1.0                1.0           0.333333   \n",
      "1                1.0                1.0                1.0           0.333333   \n",
      "2                1.0                1.0                1.0           0.333333   \n",
      "3                1.0                1.0                1.0           0.333333   \n",
      "\n",
      "   mean_test_score  std_test_score  rank_test_score  \n",
      "0         0.866667        0.266667                1  \n",
      "1         0.866667        0.266667                1  \n",
      "2         0.866667        0.266667                1  \n",
      "3         0.866667        0.266667                1  \n"
     ]
    }
   ],
   "source": [
    "\n",
    "parameters = {'C':[0.01, 0.1, 1, 10], \n",
    "              'kernel': ['linear']}\n",
    "\n",
    "svc = svm.SVC()\n",
    "clf = GridSearchCV(svc, parameters)\n",
    "clf.fit(X, y)\n",
    "df_results = pd.DataFrame(clf.cv_results_)\n",
    "print(df_results)"
   ]
  },
  {
   "cell_type": "markdown",
   "metadata": {},
   "source": [
    "To understand the behaviour of the hyperplanes, let us plot the hyperplanes"
   ]
  },
  {
   "cell_type": "markdown",
   "metadata": {},
   "source": [
    "#### 5.4 Plot Hyperplane\n",
    "\n",
    "Decision rule : $$ y = \\vec{w}\\vec{x} + b $$\n",
    "for positive support vector decision boundary $$ \\vec{w}\\vec{x} + b = 1 $$\n",
    "for negative support vector decision boundary $$ \\vec{w}\\vec{x} + b = -1  $$\n",
    "for decision boundary $$ \\vec{w}\\vec{x} + b = 0  $$\n",
    "\n",
    "To draw the hyperplane, for a given point x, we need the corresponding y. So, consider $\\vec{x}$ as $x_i$, $y_i$. $\\vec{w}$ has 2 points $w_0$ and $w_1$.\n",
    "\n",
    "Let v be the value to be subtituted. Rewriting equation above,\n",
    "\n",
    "$$ v = w_0.x_i + w_1.y_i + b $$\n",
    "$$ y_i = \\frac{v - w_0.x_i - b}{w_1} $$\n",
    "\n"
   ]
  },
  {
   "cell_type": "code",
   "execution_count": 5,
   "metadata": {},
   "outputs": [],
   "source": [
    "# Reference : https://pythonprogramming.net/predictions-svm-machine-learning-tutorial/\n",
    "def hyperplane(x,w,b,v):\n",
    "    # v = (w.x+b)\n",
    "    return (-w[0]*x-b+v) / w[1]"
   ]
  },
  {
   "cell_type": "code",
   "execution_count": 6,
   "metadata": {},
   "outputs": [],
   "source": [
    "def make_meshgrid(x, y, h=.02):\n",
    "    \"\"\"Create a mesh of points to plot in\n",
    "\n",
    "    Parameters\n",
    "    ----------\n",
    "    x: data to base x-axis meshgrid on\n",
    "    y: data to base y-axis meshgrid on\n",
    "    h: stepsize for meshgrid, optional\n",
    "\n",
    "    Returns\n",
    "    -------\n",
    "    xx, yy : ndarray\n",
    "    \"\"\"\n",
    "    x_min, x_max = x.min() - 1, x.max() + 1\n",
    "    y_min, y_max = y.min() - 1, y.max() + 1\n",
    "    xx, yy = np.meshgrid(np.arange(x_min, x_max, h),\n",
    "                         np.arange(y_min, y_max, h))\n",
    "    return xx, yy\n",
    "\n",
    "\n",
    "def plot_contours(ax, clf, xx, yy, **params):\n",
    "    \"\"\"Plot the decision boundaries for a classifier.\n",
    "\n",
    "    Parameters\n",
    "    ----------\n",
    "    ax: matplotlib axes object\n",
    "    clf: a classifier\n",
    "    xx: meshgrid ndarray\n",
    "    yy: meshgrid ndarray\n",
    "    params: dictionary of params to pass to contourf, optional\n",
    "    \"\"\"\n",
    "    Z = clf.predict(np.c_[xx.ravel(), yy.ravel()])\n",
    "    Z = Z.reshape(xx.shape)\n",
    "    out = ax.contourf(xx, yy, Z, **params)\n",
    "    return out"
   ]
  },
  {
   "cell_type": "code",
   "execution_count": 7,
   "metadata": {
    "scrolled": false
   },
   "outputs": [
    {
     "name": "stdout",
     "output_type": "stream",
     "text": [
      "Check sum of alphas across both classes\n",
      "1.734723475976807e-17\n",
      "number of dimensions 2 2\n",
      "length support vectors 45\n",
      "support vectors [[ 8. -1.]\n",
      " [ 6.  3.]\n",
      " [ 6.  2.]\n",
      " [ 6.  3.]\n",
      " [ 8.  0.]\n",
      " [ 5.  3.]\n",
      " [ 8. -1.]\n",
      " [ 5.  2.]\n",
      " [ 7.  0.]\n",
      " [ 1.  7.]\n",
      " [ 6.  2.]\n",
      " [ 5.  4.]\n",
      " [ 3.  6.]\n",
      " [ 8.  0.]\n",
      " [ 6.  3.]\n",
      " [ 8. -1.]\n",
      " [ 6.  2.]\n",
      " [ 0.  9.]\n",
      " [ 0.  7.]\n",
      " [ 2.  7.]\n",
      " [ 3.  1.]\n",
      " [ 8. -4.]\n",
      " [ 7. -3.]\n",
      " [ 7. -3.]\n",
      " [ 5. -2.]\n",
      " [ 8. -5.]\n",
      " [ 6. -3.]\n",
      " [ 3.  1.]\n",
      " [ 3.  1.]\n",
      " [ 0.  3.]\n",
      " [ 1.  3.]\n",
      " [ 1.  3.]\n",
      " [ 4.  0.]\n",
      " [ 1.  3.]\n",
      " [ 5. -1.]\n",
      " [ 6. -2.]\n",
      " [ 6. -2.]\n",
      " [ 4.  0.]\n",
      " [ 3.  0.]\n",
      " [ 3.  0.]\n",
      " [ 4.  0.]\n",
      " [ 0.  3.]\n",
      " [ 0.  7.]\n",
      " [ 6.  3.]\n",
      " [ 7.  0.]]\n",
      "length dual coefficient 45\n",
      "dual coefficient [[-0.01       -0.00344444 -0.01       -0.01       -0.01       -0.01\n",
      "  -0.01       -0.01       -0.01       -0.01       -0.01       -0.00044444\n",
      "  -0.00722222 -0.01       -0.01       -0.01       -0.01       -0.01\n",
      "  -0.01       -0.01       -0.01       -0.01       -0.01        0.01\n",
      "   0.01        0.00757778  0.01        0.01        0.01        0.01\n",
      "   0.01        0.01        0.01        0.01        0.01        0.01\n",
      "   0.01        0.01        0.00353333  0.01        0.01        0.01\n",
      "   0.01        0.01        0.01      ]]\n",
      "support vectors\n",
      "[[ 8. -1.]\n",
      " [ 6.  3.]\n",
      " [ 6.  2.]\n",
      " [ 6.  3.]\n",
      " [ 8.  0.]\n",
      " [ 5.  3.]\n",
      " [ 8. -1.]\n",
      " [ 5.  2.]\n",
      " [ 7.  0.]\n",
      " [ 1.  7.]\n",
      " [ 6.  2.]\n",
      " [ 5.  4.]\n",
      " [ 3.  6.]\n",
      " [ 8.  0.]\n",
      " [ 6.  3.]\n",
      " [ 8. -1.]\n",
      " [ 6.  2.]\n",
      " [ 0.  9.]\n",
      " [ 0.  7.]\n",
      " [ 2.  7.]\n",
      " [ 3.  1.]\n",
      " [ 8. -4.]\n",
      " [ 7. -3.]\n",
      " [ 7. -3.]\n",
      " [ 5. -2.]\n",
      " [ 8. -5.]\n",
      " [ 6. -3.]\n",
      " [ 3.  1.]\n",
      " [ 3.  1.]\n",
      " [ 0.  3.]\n",
      " [ 1.  3.]\n",
      " [ 1.  3.]\n",
      " [ 4.  0.]\n",
      " [ 1.  3.]\n",
      " [ 5. -1.]\n",
      " [ 6. -2.]\n",
      " [ 6. -2.]\n",
      " [ 4.  0.]\n",
      " [ 3.  0.]\n",
      " [ 3.  0.]\n",
      " [ 4.  0.]\n",
      " [ 0.  3.]\n",
      " [ 0.  7.]\n",
      " [ 6.  3.]\n",
      " [ 7.  0.]]\n",
      "Check sum of alphas across both classes\n",
      "8.326672684688674e-17\n",
      "number of dimensions 2 2\n",
      "length support vectors 20\n",
      "support vectors [[ 8. -1.]\n",
      " [ 8. -1.]\n",
      " [ 5.  2.]\n",
      " [ 7.  0.]\n",
      " [ 1.  7.]\n",
      " [ 8. -1.]\n",
      " [ 0.  7.]\n",
      " [ 3.  1.]\n",
      " [ 8. -4.]\n",
      " [ 7. -3.]\n",
      " [ 7. -3.]\n",
      " [ 4.  0.]\n",
      " [ 5. -1.]\n",
      " [ 6. -2.]\n",
      " [ 6. -2.]\n",
      " [ 4.  0.]\n",
      " [ 4.  0.]\n",
      " [ 0.  7.]\n",
      " [ 6.  3.]\n",
      " [ 7.  0.]]\n",
      "length dual coefficient 20\n",
      "dual coefficient [[-0.1 -0.1 -0.1 -0.1 -0.1 -0.1 -0.1 -0.1 -0.1 -0.1  0.1  0.1  0.1  0.1\n",
      "   0.1  0.1  0.1  0.1  0.1  0.1]]\n",
      "support vectors\n",
      "[[ 8. -1.]\n",
      " [ 8. -1.]\n",
      " [ 5.  2.]\n",
      " [ 7.  0.]\n",
      " [ 1.  7.]\n",
      " [ 8. -1.]\n",
      " [ 0.  7.]\n",
      " [ 3.  1.]\n",
      " [ 8. -4.]\n",
      " [ 7. -3.]\n",
      " [ 7. -3.]\n",
      " [ 4.  0.]\n",
      " [ 5. -1.]\n",
      " [ 6. -2.]\n",
      " [ 6. -2.]\n",
      " [ 4.  0.]\n",
      " [ 4.  0.]\n",
      " [ 0.  7.]\n",
      " [ 6.  3.]\n",
      " [ 7.  0.]]\n",
      "Check sum of alphas across both classes\n",
      "-6.661338147750939e-16\n",
      "number of dimensions 2 2\n",
      "length support vectors 17\n",
      "support vectors [[ 8. -1.]\n",
      " [ 5.  2.]\n",
      " [ 7.  0.]\n",
      " [ 1.  7.]\n",
      " [ 8. -1.]\n",
      " [ 0.  7.]\n",
      " [ 3.  1.]\n",
      " [ 8. -4.]\n",
      " [ 7. -3.]\n",
      " [ 7. -3.]\n",
      " [ 4.  0.]\n",
      " [ 5. -1.]\n",
      " [ 6. -2.]\n",
      " [ 6. -2.]\n",
      " [ 0.  7.]\n",
      " [ 6.  3.]\n",
      " [ 7.  0.]]\n",
      "length dual coefficient 17\n",
      "dual coefficient [[-0.31970704 -1.         -1.         -0.07522222 -0.64676078 -1.\n",
      "  -1.         -1.         -1.          1.          0.04169003  1.\n",
      "   1.          1.          1.          1.          1.        ]]\n",
      "support vectors\n",
      "[[ 8. -1.]\n",
      " [ 5.  2.]\n",
      " [ 7.  0.]\n",
      " [ 1.  7.]\n",
      " [ 8. -1.]\n",
      " [ 0.  7.]\n",
      " [ 3.  1.]\n",
      " [ 8. -4.]\n",
      " [ 7. -3.]\n",
      " [ 7. -3.]\n",
      " [ 4.  0.]\n",
      " [ 5. -1.]\n",
      " [ 6. -2.]\n",
      " [ 6. -2.]\n",
      " [ 0.  7.]\n",
      " [ 6.  3.]\n",
      " [ 7.  0.]]\n",
      "Check sum of alphas across both classes\n",
      "-4.440892098500626e-15\n",
      "number of dimensions 2 2\n",
      "length support vectors 16\n",
      "support vectors [[ 8. -1.]\n",
      " [ 5.  2.]\n",
      " [ 7.  0.]\n",
      " [ 1.  7.]\n",
      " [ 8. -1.]\n",
      " [ 0.  7.]\n",
      " [ 3.  1.]\n",
      " [ 8. -4.]\n",
      " [ 7. -3.]\n",
      " [ 7. -3.]\n",
      " [ 5. -1.]\n",
      " [ 6. -2.]\n",
      " [ 6. -2.]\n",
      " [ 0.  7.]\n",
      " [ 6.  3.]\n",
      " [ 7.  0.]]\n",
      "length dual coefficient 16\n",
      "dual coefficient [[ -4.9656223  -10.         -10.          -0.07289864  -2.02036865\n",
      "  -10.         -10.         -10.         -10.          10.\n",
      "    7.05888958  10.          10.          10.          10.\n",
      "   10.        ]]\n",
      "support vectors\n",
      "[[ 8. -1.]\n",
      " [ 5.  2.]\n",
      " [ 7.  0.]\n",
      " [ 1.  7.]\n",
      " [ 8. -1.]\n",
      " [ 0.  7.]\n",
      " [ 3.  1.]\n",
      " [ 8. -4.]\n",
      " [ 7. -3.]\n",
      " [ 7. -3.]\n",
      " [ 5. -1.]\n",
      " [ 6. -2.]\n",
      " [ 6. -2.]\n",
      " [ 0.  7.]\n",
      " [ 6.  3.]\n",
      " [ 7.  0.]]\n"
     ]
    },
    {
     "data": {
      "image/png": "[encoded data removed]",
      "text/plain": [
       "<Figure size 1080x1080 with 4 Axes>"
      ]
     },
     "metadata": {
      "needs_background": "light"
     },
     "output_type": "display_data"
    }
   ],
   "source": [
    "# Set-up 2x2 grid for plotting.\n",
    "fig, sub = plt.subplots(2, 2, figsize=(15, 15))\n",
    "plt.subplots_adjust(wspace=.5, hspace=.5)\n",
    "\n",
    "X0, X1 = X[:, 0], X[:, 1]\n",
    "xx, yy = make_meshgrid(X0, X1)\n",
    "\n",
    "for param, ax in zip(parameters['C'], sub.flatten()):\n",
    "    clf = svm.SVC(kernel = 'linear', C = param)\n",
    "    clf.fit(X,y)\n",
    "    title = param\n",
    "    \n",
    "    plot_contours(ax, clf, xx, yy,\n",
    "                  cmap=plt.cm.coolwarm, alpha=0.8)\n",
    "    ax.scatter(X0, X1, c=y, cmap=plt.cm.coolwarm, s=20)\n",
    "    ax.set_xlim(xx.min(), xx.max())\n",
    "    ax.set_ylim(yy.min(), yy.max())\n",
    "    ax.set_xlabel('x1')\n",
    "    ax.set_ylabel('x2')\n",
    "    ax.set_xticks(X0)\n",
    "    ax.set_yticks(X1)\n",
    "    ax.set_title(title)\n",
    "    \n",
    "    x_line = np.linspace(0,8,9)\n",
    "    psv1 = hyperplane(min(x_line),clf.coef_[0],clf.intercept_,1)\n",
    "    psv2 = hyperplane(max(x_line),clf.coef_[0],clf.intercept_,1)\n",
    "    ax.plot([min(x_line),max(x_line)], [psv1, psv2])\n",
    "\n",
    "    nsv1 = hyperplane(min(x_line),clf.coef_[0],clf.intercept_,-1)\n",
    "    nsv2 = hyperplane(max(x_line),clf.coef_[0],clf.intercept_,-1)\n",
    "    ax.plot([min(x_line),max(x_line)], [nsv1, nsv2])\n",
    "    \n",
    "    # Theoretically dual coefficients should balance out between positive and negative classes\n",
    "    print('Check sum of alphas across both classes')\n",
    "    print(np.sum(clf.dual_coef_[0]))\n",
    "    \n",
    "    # Derive weights from alphas\n",
    "    # Matches as this is how sklearn populates the attribute\n",
    "    print('number of dimensions', clf.support_vectors_.ndim, clf.dual_coef_.ndim)\n",
    "    print('length support vectors', len(clf.support_vectors_))\n",
    "    print('support vectors', clf.support_vectors_)\n",
    "    print('length dual coefficient', len(clf.dual_coef_[0]))\n",
    "    print('dual coefficient', clf.dual_coef_)\n",
    "    \n",
    "    # When both dimensions are less than or equal to 2 , \n",
    "    # it is matrix multiplication\n",
    "#     print('Recreating coefficients')\n",
    "#     print(clf.dual_coef_ @ clf.support_vectors_)\n",
    "    \n",
    "#     print('Checking how close the coefficients are:')\n",
    "#     print(np.allclose(clf.coef_ , clf.dual_coef_  @ clf.support_vectors_))\n",
    "    \n",
    "    print('support vectors')\n",
    "    print(clf.support_vectors_)\n",
    "\n",
    "    ax.scatter(clf.support_vectors_[:, 0], \n",
    "               clf.support_vectors_[:, 1], \n",
    "               s=100,          \n",
    "               linewidth=1, \n",
    "               facecolors='none', \n",
    "               edgecolors='green')\n",
    "\n",
    "plt.show()\n",
    "    "
   ]
  },
  {
   "attachments": {},
   "cell_type": "markdown",
   "metadata": {},
   "source": [
    "### 5.5 Insights regarding C:\n",
    "    \n",
    "For C=.01, margin width is very  high. A lot of points are categorized as support vectors. Regularisation is inversely proportional to the value of C. Hence, this classifier is the least regularized classifier.\n",
    "<img src=\"./img/notebook2/c01.png\" width=400>\n",
    "\n",
    "\n",
    "For C= .1, margin width is lower than C = .01. Both gutters have moved by one line.\n",
    "<img src=\"./img/notebook2/cpoint1.png\" width=400>\n",
    "\n",
    "For C=1 and C=10, the margins move slightly closer.\n",
    "<img src=\"./img/notebook2/c1.png\" width=400>\n",
    "\n",
    "<img src=\"./img/notebook2/c10.png\" width=400>\n",
    "\n",
    "### 5.5 Insights regarding Alpha:\n",
    "\n",
    "***For C=.01***\n",
    "For C=.01, almost all of the points(45 out of 46 points) are flagged as support vectors, due to the large margin. Of those points, some of them have $\\alpha = .01 (C) $ and others are $\\alpha < .01$. $\\alpha$ values are returned by dual coefficients.\n",
    "\n",
    "<img src=\"./img/notebook2/support_vec_c_01.png\"  width=400>\n",
    "\n",
    "<img src=\"./img/notebook2/alpha_point01.png\" width=400>\n",
    "\n",
    "Mapping it on to the visualisation, the points with $\\alpha < .01 (C) $ lie on the support vector margin.\n",
    "<img src=\"./img/notebook2/c01_nonzero_alpha.png\" width=400>\n",
    "\n",
    "Dual coefficients for all support vectors are with value of C = .01\n",
    "<img src=\"./img/notebook2/alpha_point1.png\" width=600>\n",
    "\n",
    "\n",
    "### 5.6 General Insights:\n",
    "\n",
    "Misclassified points because of soft margin are also included in the support vectors. \n",
    "\n",
    "Alpha (dual_coef_ from SVC) already has target incorporated into it. So sum of alphas add up to 0 as per the equation $\\sum \\alpha_i y_i = 0 $.\n",
    "\n",
    "In the code above, printing out  𝛼𝑖 (dual_coef in sklearn construct) for different C, it can be observed that for some points  𝐶=𝛼𝑖 . We can then infer that those points are the ones where slack variable is allowed (i.e, points are either on the wrong side of the hyperplane or points are between the dividing hyperplane and support vector margin)\n",
    "For C=.01, all 40 points have alpha and they are all at C\n",
    "\n",
    "It is possible to recreate coef_ from dual_coef_ and support_vectors. Infact, this is how sklearn does it. [Source code reference](https://github.com/scikit-learn/scikit-learn/blob/2beed55847ee70d363bdbfe14ee4401438fba057/sklearn/svm/_base.py#L751) \n",
    "$ \\vec{w} = \\sum \\alpha_iy_ix_i $\n",
    "\n",
    "### Open Questions\n",
    "\n",
    "It is unclear why point 6,4 is included in the support vectors."
   ]
  },
  {
   "cell_type": "markdown",
   "metadata": {},
   "source": [
    "### 5.6 Plot Hinge Loss vs. Squared Hinge Loss \n",
    "In the above section on hinge loss, SVM Objective function to minimise  was rewritten as: \n",
    "$$\\frac{\\lVert{w}\\rVert^2}{2} + C* \\sum max (0 , 1-y_i(\\vec{w}x_i + b)$$\n",
    "$(\\vec{w}x_i + b)$ can be derived from decision_function in sklearn\n",
    "\n",
    "#### Plot Hinge Loss : max(0, 1 - yi*decision_function)"
   ]
  },
  {
   "cell_type": "code",
   "execution_count": 8,
   "metadata": {},
   "outputs": [
    {
     "data": {
      "text/plain": [
       "<matplotlib.collections.PathCollection at 0x2a4be3711c0>"
      ]
     },
     "execution_count": 8,
     "metadata": {},
     "output_type": "execute_result"
    },
    {
     "data": {
      "image/png": "[encoded data removed]",
      "text/plain": [
       "<Figure size 432x288 with 1 Axes>"
      ]
     },
     "metadata": {
      "needs_background": "light"
     },
     "output_type": "display_data"
    }
   ],
   "source": [
    "clf = svm.SVC(kernel = 'linear', C = 10)\n",
    "clf.fit(X,y)\n",
    "hinge_loss =  np.maximum(0, 1 - y*clf.decision_function(X))\n",
    "plt.scatter(y*clf.decision_function(X) , hinge_loss)"
   ]
  },
  {
   "cell_type": "markdown",
   "metadata": {},
   "source": [
    "#### Plot Squared Hinge Loss"
   ]
  },
  {
   "cell_type": "code",
   "execution_count": 9,
   "metadata": {},
   "outputs": [
    {
     "data": {
      "text/plain": [
       "<matplotlib.collections.PathCollection at 0x2a4be3cc070>"
      ]
     },
     "execution_count": 9,
     "metadata": {},
     "output_type": "execute_result"
    },
    {
     "data": {
      "image/png": "[encoded data removed]",
      "text/plain": [
       "<Figure size 432x288 with 1 Axes>"
      ]
     },
     "metadata": {
      "needs_background": "light"
     },
     "output_type": "display_data"
    }
   ],
   "source": [
    "hinge_loss =  np.maximum(0, 1 - y*clf.decision_function(X))\n",
    "squared_hinge_loss = hinge_loss ** 2\n",
    "plt.scatter(y*clf.decision_function(X) , squared_hinge_loss )"
   ]
  },
  {
   "cell_type": "code",
   "execution_count": 10,
   "metadata": {},
   "outputs": [
    {
     "data": {
      "text/plain": [
       "<matplotlib.collections.PathCollection at 0x2a4be01c0d0>"
      ]
     },
     "execution_count": 10,
     "metadata": {},
     "output_type": "execute_result"
    },
    {
     "data": {
      "image/png": "[encoded data removed]",
      "text/plain": [
       "<Figure size 432x288 with 1 Axes>"
      ]
     },
     "metadata": {
      "needs_background": "light"
     },
     "output_type": "display_data"
    }
   ],
   "source": [
    "clf = svm.SVC(kernel = 'linear', C = 1)\n",
    "clf.fit(X,y)\n",
    "hinge_loss =  np.maximum(0, 1 - y*clf.decision_function(X))\n",
    "plt.scatter(y*clf.decision_function(X) , hinge_loss)\n"
   ]
  },
  {
   "cell_type": "code",
   "execution_count": 11,
   "metadata": {},
   "outputs": [
    {
     "data": {
      "text/plain": [
       "<matplotlib.collections.PathCollection at 0x2a4bdfad640>"
      ]
     },
     "execution_count": 11,
     "metadata": {},
     "output_type": "execute_result"
    },
    {
     "data": {
      "image/png": "[encoded data removed]",
      "text/plain": [
       "<Figure size 432x288 with 1 Axes>"
      ]
     },
     "metadata": {
      "needs_background": "light"
     },
     "output_type": "display_data"
    }
   ],
   "source": [
    "squared_hinge_loss = hinge_loss ** 2\n",
    "plt.scatter(y*clf.decision_function(X) , squared_hinge_loss )"
   ]
  },
  {
   "cell_type": "markdown",
   "metadata": {},
   "source": [
    "# References:\n",
    "* Many thanks to https://github.com/jazzapple for reviewing the notebook and providing feedback.\n",
    "* A tutorial on Support Vector Machines for Pattern Recognition by Christopher J Burges\n",
    "* [Cornell Machine Learning Lecture](http://www.cs.cornell.edu/courses/cs4780/2018sp/page16/).\n"
   ]
  }
 ],
 "metadata": {
  "kernelspec": {
   "display_name": "Python 3",
   "language": "python",
   "name": "python3"
  },
  "language_info": {
   "codemirror_mode": {
    "name": "ipython",
    "version": 3
   },
   "file_extension": ".py",
   "mimetype": "text/x-python",
   "name": "python",
   "nbconvert_exporter": "python",
   "pygments_lexer": "ipython3",
   "version": "3.8.3"
  }
 },
 "nbformat": 4,
 "nbformat_minor": 4
}
