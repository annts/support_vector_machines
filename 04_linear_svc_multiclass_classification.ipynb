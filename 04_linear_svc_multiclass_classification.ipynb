{
 "cells": [
  {
   "cell_type": "markdown",
   "metadata": {},
   "source": [
    "## Purpose\n",
    "\n",
    "Purpose of the notebook is to deep dive into multiclass classification of SVM. Aim is to visualise one vs. one and one vs. rest algorithms in the 3D space.\n",
    "\n",
    "### One vs. One\n",
    "\n",
    "Mode11        |  Model2 |  Model3\n",
    ":-------------------------:|:-------------------------:|:-------------------------:\n",
    "![mdl1](./img/ovo1.png)|![mdl2](./img/ovo2.png)|![mdl3](./img/ovo3.png)\n",
    "\n",
    "### One vs. Rest\n",
    "\n",
    "Mode11        |  Model2 |  Model3\n",
    ":-------------------------:|:-------------------------:|:-------------------------:\n",
    "![mdl1](./img/ovr1.png)|![mdl2](./img/ovr2.png)|![mdl3](./img/ovr3.png)"
   ]
  },
  {
   "cell_type": "markdown",
   "metadata": {},
   "source": [
    "#### Imports"
   ]
  },
  {
   "cell_type": "code",
   "execution_count": 10,
   "metadata": {},
   "outputs": [],
   "source": [
    "from mpl_toolkits import mplot3d\n",
    "from ipywidgets import interact\n",
    "import numpy as np\n",
    "import matplotlib.pyplot as plt\n",
    "from sklearn import svm, datasets"
   ]
  },
  {
   "cell_type": "markdown",
   "metadata": {},
   "source": [
    "#### Functions"
   ]
  },
  {
   "cell_type": "code",
   "execution_count": 11,
   "metadata": {},
   "outputs": [],
   "source": [
    "def make_meshgrid(x, y, h=.02):\n",
    "    \"\"\"Create a mesh of points to plot in\n",
    "\n",
    "    Parameters\n",
    "    ----------\n",
    "    x: data to base x-axis meshgrid on\n",
    "    y: data to base y-axis meshgrid on\n",
    "    h: stepsize for meshgrid, optional\n",
    "\n",
    "    Returns\n",
    "    -------\n",
    "    xx, yy : ndarray\n",
    "    \"\"\"\n",
    "    x_min, x_max = x.min() - 1, x.max() + 1\n",
    "    y_min, y_max = y.min() - 1, y.max() + 1\n",
    "    xx, yy = np.meshgrid(np.arange(x_min, x_max, h),\n",
    "                         np.arange(y_min, y_max, h)\n",
    "                             )\n",
    "    return xx, yy"
   ]
  },
  {
   "cell_type": "markdown",
   "metadata": {},
   "source": [
    "#### Load Data"
   ]
  },
  {
   "cell_type": "code",
   "execution_count": 12,
   "metadata": {},
   "outputs": [
    {
     "name": "stdout",
     "output_type": "stream",
     "text": [
      "(3,)\n",
      "[[-0.30488777  0.71125336 -1.15277433]\n",
      " [-0.02638523  0.23746706 -0.68601595]\n",
      " [ 0.56787236  0.63516669 -3.43616864]]\n"
     ]
    }
   ],
   "source": [
    "# import some data to play with\n",
    "iris = datasets.load_iris()\n",
    "# Take the first three features. \n",
    "X = iris.data[:, :3]\n",
    "y = iris.target\n",
    "\n",
    "# we create an instance of SVM and fit out data. We do not scale our\n",
    "# data since we want to plot the support vectors\n",
    "C = 1.0  # SVM regularization parameter\n",
    "# models = (svm.SVC(kernel='linear', C=C),\n",
    "#           svm.LinearSVC(C=C, max_iter=10000),\n",
    "#           svm.SVC(kernel='rbf', gamma=0.7, C=C),\n",
    "#           svm.SVC(kernel='poly', degree=3, gamma='auto', C=C))\n",
    "# models = (clf.fit(X, y) for clf in models)\n",
    "\n",
    "# title for the plots\n",
    "titles = ('SVC with linear kernel',\n",
    "          'LinearSVC (linear kernel)',\n",
    "          'SVC with RBF kernel',\n",
    "          'SVC with polynomial (degree 3) kernel')\n",
    "\n",
    "\n",
    "X0, X1, X2 = X[:, 0], X[:, 1], X[:, 2]\n",
    "xx, yy = make_meshgrid(X0, X1)\n",
    "\n",
    "clf = svm.SVC(kernel='linear', C=C)\n",
    "# clf = svm.LinearSVC(C=C, max_iter=10000)\n",
    "clf.fit(X, y)\n",
    "\n",
    "print(clf.intercept_.shape)\n",
    "print(clf.coef_)\n",
    "\n",
    "z0 = lambda x,y: (-clf.intercept_[0]-clf.coef_[0][0]*x-clf.coef_[0][1]*y) / clf.coef_[0][2]\n",
    "z1 = lambda x,y: (-clf.intercept_[1]-clf.coef_[1][0]*x-clf.coef_[1][1]*y) / clf.coef_[1][2]\n",
    "z2 = lambda x,y: (-clf.intercept_[2]-clf.coef_[2][0]*x-clf.coef_[2][1]*y) / clf.coef_[2][2]\n"
   ]
  },
  {
   "cell_type": "code",
   "execution_count": 13,
   "metadata": {},
   "outputs": [
    {
     "data": {
      "text/plain": [
       "SVC(kernel='linear')"
      ]
     },
     "execution_count": 13,
     "metadata": {},
     "output_type": "execute_result"
    }
   ],
   "source": [
    "clf\n"
   ]
  },
  {
   "cell_type": "markdown",
   "metadata": {},
   "source": [
    "### Visualize SVC one_vs_one classification"
   ]
  },
  {
   "cell_type": "markdown",
   "metadata": {},
   "source": [
    "#### Plot model1"
   ]
  },
  {
   "cell_type": "code",
   "execution_count": 20,
   "metadata": {},
   "outputs": [
    {
     "data": {
      "application/vnd.jupyter.widget-view+json": {
       "model_id": "b02aa5eec93c45949f06ef87e83ba7d4",
       "version_major": 2,
       "version_minor": 0
      },
      "text/plain": [
       "interactive(children=(IntSlider(value=30, description='elev', max=90, min=-90), IntSlider(value=30, descriptio…"
      ]
     },
     "metadata": {},
     "output_type": "display_data"
    }
   ],
   "source": [
    "\n",
    "\n",
    "%matplotlib inline\n",
    "\n",
    "def plot_3D_z0(elev=30, azim=30):\n",
    "    ax = plt.subplot(projection='3d')\n",
    "    ax.scatter3D(X0, X1, X2, c=y, s=50, cmap='spring')\n",
    "    ax.plot_surface(xx, yy, z0(xx, yy))\n",
    "    ax.view_init(elev=elev, azim=azim)\n",
    "    ax.set_xlabel('x')\n",
    "    ax.set_ylabel('y')\n",
    "    ax.set_zlabel('z')\n",
    "\n",
    "interact(plot_3D_z0, elev=(-90, 90), azim=(-180, 180));"
   ]
  },
  {
   "cell_type": "markdown",
   "metadata": {},
   "source": [
    "#### Plot model2"
   ]
  },
  {
   "cell_type": "code",
   "execution_count": 16,
   "metadata": {},
   "outputs": [
    {
     "data": {
      "application/vnd.jupyter.widget-view+json": {
       "model_id": "b4d3946d8d6b45f99007db7a73b61003",
       "version_major": 2,
       "version_minor": 0
      },
      "text/plain": [
       "interactive(children=(IntSlider(value=30, description='elev', max=90, min=-90), IntSlider(value=30, descriptio…"
      ]
     },
     "metadata": {},
     "output_type": "display_data"
    }
   ],
   "source": [
    "def plot_3D_z1(elev=30, azim=30):\n",
    "    ax = plt.subplot(projection='3d')\n",
    "    ax.scatter3D(X0, X1, X2, c=y, s=50, cmap='spring')\n",
    "    ax.plot_surface(xx, yy, z1(xx, yy))\n",
    "    ax.view_init(elev=elev, azim=azim)\n",
    "    ax.set_xlabel('x')\n",
    "    ax.set_ylabel('y')\n",
    "    ax.set_zlabel('z')\n",
    "\n",
    "interact(plot_3D_z1, elev=(-90, 90), azim=(-180, 180));"
   ]
  },
  {
   "cell_type": "markdown",
   "metadata": {},
   "source": [
    "#### Plot model3"
   ]
  },
  {
   "cell_type": "code",
   "execution_count": 17,
   "metadata": {},
   "outputs": [
    {
     "data": {
      "application/vnd.jupyter.widget-view+json": {
       "model_id": "4feaae7c8da4489a8d776adc02886c23",
       "version_major": 2,
       "version_minor": 0
      },
      "text/plain": [
       "interactive(children=(IntSlider(value=30, description='elev', max=90, min=-90), IntSlider(value=30, descriptio…"
      ]
     },
     "metadata": {},
     "output_type": "display_data"
    }
   ],
   "source": [
    "def plot_3D_z2(elev=30, azim=30):\n",
    "    ax = plt.subplot(projection='3d')\n",
    "    ax.scatter3D(X0, X1, X2, c=y, s=50, cmap='spring')\n",
    "    ax.plot_surface(xx, yy, z2(xx, yy))\n",
    "    ax.view_init(elev=elev, azim=azim)\n",
    "    ax.set_xlabel('x')\n",
    "    ax.set_ylabel('y')\n",
    "    ax.set_zlabel('z')\n",
    "\n",
    "interact(plot_3D_z2, elev=(-90, 90), azim=(-180, 180));"
   ]
  },
  {
   "cell_type": "markdown",
   "metadata": {},
   "source": [
    "### Visualise one vs. rest classification"
   ]
  },
  {
   "cell_type": "code",
   "execution_count": 21,
   "metadata": {},
   "outputs": [
    {
     "name": "stdout",
     "output_type": "stream",
     "text": [
      "(3,)\n",
      "[[ 0.16186141  0.53071547 -0.97592098]\n",
      " [ 0.25809308 -1.09973014 -0.09276894]\n",
      " [-0.97895578 -0.68370042  2.05955951]]\n"
     ]
    }
   ],
   "source": [
    "clf = svm.LinearSVC(C=C, max_iter=10000)\n",
    "clf.fit(X, y)\n",
    "\n",
    "print(clf.intercept_.shape)\n",
    "print(clf.coef_)\n",
    "\n",
    "z0 = lambda x,y: (-clf.intercept_[0]-clf.coef_[0][0]*x-clf.coef_[0][1]*y) / clf.coef_[0][2]\n",
    "z1 = lambda x,y: (-clf.intercept_[1]-clf.coef_[1][0]*x-clf.coef_[1][1]*y) / clf.coef_[1][2]\n",
    "z2 = lambda x,y: (-clf.intercept_[2]-clf.coef_[2][0]*x-clf.coef_[2][1]*y) / clf.coef_[2][2]\n"
   ]
  },
  {
   "cell_type": "code",
   "execution_count": 22,
   "metadata": {},
   "outputs": [
    {
     "data": {
      "application/vnd.jupyter.widget-view+json": {
       "model_id": "63ffe4afc0a741e7986f2152a9dd1e37",
       "version_major": 2,
       "version_minor": 0
      },
      "text/plain": [
       "interactive(children=(IntSlider(value=30, description='elev', max=90, min=-90), IntSlider(value=30, descriptio…"
      ]
     },
     "metadata": {},
     "output_type": "display_data"
    }
   ],
   "source": [
    "interact(plot_3D_z0, elev=(-90, 90), azim=(-180, 180));"
   ]
  },
  {
   "cell_type": "code",
   "execution_count": 23,
   "metadata": {},
   "outputs": [
    {
     "data": {
      "application/vnd.jupyter.widget-view+json": {
       "model_id": "5ca70719ea7f4affb42497365c5fed39",
       "version_major": 2,
       "version_minor": 0
      },
      "text/plain": [
       "interactive(children=(IntSlider(value=30, description='elev', max=90, min=-90), IntSlider(value=30, descriptio…"
      ]
     },
     "metadata": {},
     "output_type": "display_data"
    }
   ],
   "source": [
    "interact(plot_3D_z1, elev=(-90, 90), azim=(-180, 180));"
   ]
  },
  {
   "cell_type": "code",
   "execution_count": 24,
   "metadata": {},
   "outputs": [
    {
     "data": {
      "application/vnd.jupyter.widget-view+json": {
       "model_id": "880d2ba0be9642169081ccefd07f3e22",
       "version_major": 2,
       "version_minor": 0
      },
      "text/plain": [
       "interactive(children=(IntSlider(value=30, description='elev', max=90, min=-90), IntSlider(value=30, descriptio…"
      ]
     },
     "metadata": {},
     "output_type": "display_data"
    }
   ],
   "source": [
    "interact(plot_3D_z2, elev=(-90, 90), azim=(-180, 180));"
   ]
  },
  {
   "cell_type": "markdown",
   "metadata": {},
   "source": [
    "### Challenge question\n",
    "When it is 3 features, number of models in one vs. one and one vs. rest is the same.\n",
    "When it is 4 features, number of models in one. vs. one is 6 (4C2)and number of models in \n",
    "one vs. rest is 4. Is it possible to visualise those models, extending the above \n",
    "analysis to 4 dimensions."
   ]
  },
  {
   "cell_type": "markdown",
   "metadata": {},
   "source": [
    "# References\n",
    "https://stackoverflow.com/questions/36232334/plotting-3d-decision-boundary-from-linear-svm\n",
    "    \n",
    "https://scikit-learn.org/stable/auto_examples/svm/plot_iris_svc.html#sphx-glr-auto-examples-svm-plot-iris-svc-py\n",
    "\n",
    "https://pythonprogramming.net/matplotlib-3d-scatterplot-tutorial/\n",
    "\n",
    "https://matplotlib.org/stable/gallery/mplot3d/subplot3d.html\n",
    "    \n",
    "    "
   ]
  }
 ],
 "metadata": {
  "kernelspec": {
   "display_name": "Python 3",
   "language": "python",
   "name": "python3"
  },
  "language_info": {
   "codemirror_mode": {
    "name": "ipython",
    "version": 3
   },
   "file_extension": ".py",
   "mimetype": "text/x-python",
   "name": "python",
   "nbconvert_exporter": "python",
   "pygments_lexer": "ipython3",
   "version": "3.8.3"
  }
 },
 "nbformat": 4,
 "nbformat_minor": 4
}
